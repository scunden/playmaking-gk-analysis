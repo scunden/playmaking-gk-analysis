{
 "cells": [
  {
   "cell_type": "markdown",
   "metadata": {},
   "source": [
    "## Setup Environment"
   ]
  },
  {
   "cell_type": "code",
   "execution_count": 1,
   "metadata": {},
   "outputs": [],
   "source": [
    "import pandas as pd\n",
    "import numpy as np\n",
    "import matplotlib.pyplot as plt\n",
    "import seaborn as sns\n",
    "import plotly.graph_objects as go\n",
    "from plotly.subplots import make_subplots\n",
    "import utils\n",
    "pd.set_option('display.max_columns', None)\n",
    "\n",
    "%load_ext autoreload\n",
    "%autoreload 2\n",
    "%reload_ext autoreload\n",
    "sns.set_theme()\n",
    "DATA_PATH=\"data/\"\n",
    "IMG_PATH='images/'\n",
    "\n",
    "import warnings\n",
    "warnings.filterwarnings('ignore')"
   ]
  },
  {
   "attachments": {},
   "cell_type": "markdown",
   "metadata": {},
   "source": [
    "## Import and Wrangle Data"
   ]
  },
  {
   "cell_type": "code",
   "execution_count": 2,
   "metadata": {},
   "outputs": [],
   "source": [
    "from sklearn.preprocessing import MinMaxScaler\n",
    "scaler = MinMaxScaler()"
   ]
  },
  {
   "cell_type": "code",
   "execution_count": 3,
   "metadata": {},
   "outputs": [],
   "source": [
    "df = pd.read_csv('{}data_p90.csv'.format(DATA_PATH),encoding='cp1252')\n",
    "metrics = ['Passes_Launch%', 'Passes_AvgLen','Goal Kicks_Launch%','Goal Kicks_AvgLen','Crosses_Stp%','Sweeper_#OPA', 'Sweeper_AvgDist','Passes_Att']\n",
    "rev_metrics = ['Passes_Launch%','Passes_AvgLen','Goal Kicks_Launch%','Goal Kicks_AvgLen']"
   ]
  },
  {
   "cell_type": "code",
   "execution_count": 4,
   "metadata": {},
   "outputs": [
    {
     "data": {
      "text/plain": [
       "(101, 34)"
      ]
     },
     "execution_count": 4,
     "metadata": {},
     "output_type": "execute_result"
    }
   ],
   "source": [
    "df = df.loc[df['90s']>df['90s'].quantile(0.1)]\n",
    "df.shape"
   ]
  },
  {
   "cell_type": "code",
   "execution_count": 5,
   "metadata": {},
   "outputs": [],
   "source": [
    "df['Age'] = 2023-df['Born']"
   ]
  },
  {
   "cell_type": "code",
   "execution_count": 6,
   "metadata": {},
   "outputs": [
    {
     "data": {
      "text/html": [
       "<div>\n",
       "<style scoped>\n",
       "    .dataframe tbody tr th:only-of-type {\n",
       "        vertical-align: middle;\n",
       "    }\n",
       "\n",
       "    .dataframe tbody tr th {\n",
       "        vertical-align: top;\n",
       "    }\n",
       "\n",
       "    .dataframe thead th {\n",
       "        text-align: right;\n",
       "    }\n",
       "</style>\n",
       "<table border=\"1\" class=\"dataframe\">\n",
       "  <thead>\n",
       "    <tr style=\"text-align: right;\">\n",
       "      <th></th>\n",
       "      <th>Passes_Launch%</th>\n",
       "      <th>Passes_AvgLen</th>\n",
       "      <th>Goal Kicks_Launch%</th>\n",
       "      <th>Goal Kicks_AvgLen</th>\n",
       "      <th>Crosses_Stp%</th>\n",
       "      <th>Sweeper_#OPA</th>\n",
       "      <th>Sweeper_AvgDist</th>\n",
       "      <th>Passes_Att</th>\n",
       "    </tr>\n",
       "  </thead>\n",
       "  <tbody>\n",
       "    <tr>\n",
       "      <th>count</th>\n",
       "      <td>101.000000</td>\n",
       "      <td>101.000000</td>\n",
       "      <td>101.000000</td>\n",
       "      <td>101.000000</td>\n",
       "      <td>101.000000</td>\n",
       "      <td>101.000000</td>\n",
       "      <td>101.000000</td>\n",
       "      <td>101.000000</td>\n",
       "    </tr>\n",
       "    <tr>\n",
       "      <th>mean</th>\n",
       "      <td>36.243564</td>\n",
       "      <td>34.203960</td>\n",
       "      <td>52.369307</td>\n",
       "      <td>42.666337</td>\n",
       "      <td>5.957426</td>\n",
       "      <td>1.153267</td>\n",
       "      <td>14.740594</td>\n",
       "      <td>27.966337</td>\n",
       "    </tr>\n",
       "    <tr>\n",
       "      <th>std</th>\n",
       "      <td>11.819707</td>\n",
       "      <td>4.734362</td>\n",
       "      <td>16.609478</td>\n",
       "      <td>8.394382</td>\n",
       "      <td>2.073179</td>\n",
       "      <td>0.537010</td>\n",
       "      <td>2.432249</td>\n",
       "      <td>5.307189</td>\n",
       "    </tr>\n",
       "    <tr>\n",
       "      <th>min</th>\n",
       "      <td>13.000000</td>\n",
       "      <td>23.600000</td>\n",
       "      <td>20.600000</td>\n",
       "      <td>25.300000</td>\n",
       "      <td>1.100000</td>\n",
       "      <td>0.210000</td>\n",
       "      <td>9.700000</td>\n",
       "      <td>17.700000</td>\n",
       "    </tr>\n",
       "    <tr>\n",
       "      <th>25%</th>\n",
       "      <td>29.700000</td>\n",
       "      <td>31.600000</td>\n",
       "      <td>38.200000</td>\n",
       "      <td>35.800000</td>\n",
       "      <td>4.600000</td>\n",
       "      <td>0.710000</td>\n",
       "      <td>12.800000</td>\n",
       "      <td>24.200000</td>\n",
       "    </tr>\n",
       "    <tr>\n",
       "      <th>50%</th>\n",
       "      <td>34.300000</td>\n",
       "      <td>33.300000</td>\n",
       "      <td>53.200000</td>\n",
       "      <td>42.900000</td>\n",
       "      <td>5.800000</td>\n",
       "      <td>1.090000</td>\n",
       "      <td>14.900000</td>\n",
       "      <td>27.700000</td>\n",
       "    </tr>\n",
       "    <tr>\n",
       "      <th>75%</th>\n",
       "      <td>41.600000</td>\n",
       "      <td>36.600000</td>\n",
       "      <td>64.700000</td>\n",
       "      <td>48.500000</td>\n",
       "      <td>7.400000</td>\n",
       "      <td>1.500000</td>\n",
       "      <td>16.600000</td>\n",
       "      <td>31.100000</td>\n",
       "    </tr>\n",
       "    <tr>\n",
       "      <th>max</th>\n",
       "      <td>71.200000</td>\n",
       "      <td>48.000000</td>\n",
       "      <td>91.200000</td>\n",
       "      <td>69.600000</td>\n",
       "      <td>13.400000</td>\n",
       "      <td>3.640000</td>\n",
       "      <td>22.500000</td>\n",
       "      <td>44.800000</td>\n",
       "    </tr>\n",
       "  </tbody>\n",
       "</table>\n",
       "</div>"
      ],
      "text/plain": [
       "       Passes_Launch%  Passes_AvgLen  Goal Kicks_Launch%  Goal Kicks_AvgLen  \\\n",
       "count      101.000000     101.000000          101.000000         101.000000   \n",
       "mean        36.243564      34.203960           52.369307          42.666337   \n",
       "std         11.819707       4.734362           16.609478           8.394382   \n",
       "min         13.000000      23.600000           20.600000          25.300000   \n",
       "25%         29.700000      31.600000           38.200000          35.800000   \n",
       "50%         34.300000      33.300000           53.200000          42.900000   \n",
       "75%         41.600000      36.600000           64.700000          48.500000   \n",
       "max         71.200000      48.000000           91.200000          69.600000   \n",
       "\n",
       "       Crosses_Stp%  Sweeper_#OPA  Sweeper_AvgDist  Passes_Att  \n",
       "count    101.000000    101.000000       101.000000  101.000000  \n",
       "mean       5.957426      1.153267        14.740594   27.966337  \n",
       "std        2.073179      0.537010         2.432249    5.307189  \n",
       "min        1.100000      0.210000         9.700000   17.700000  \n",
       "25%        4.600000      0.710000        12.800000   24.200000  \n",
       "50%        5.800000      1.090000        14.900000   27.700000  \n",
       "75%        7.400000      1.500000        16.600000   31.100000  \n",
       "max       13.400000      3.640000        22.500000   44.800000  "
      ]
     },
     "execution_count": 6,
     "metadata": {},
     "output_type": "execute_result"
    }
   ],
   "source": [
    "df[metrics].describe()"
   ]
  },
  {
   "cell_type": "code",
   "execution_count": 7,
   "metadata": {},
   "outputs": [
    {
     "data": {
      "text/plain": [
       "(101, 34)"
      ]
     },
     "execution_count": 7,
     "metadata": {},
     "output_type": "execute_result"
    }
   ],
   "source": [
    "df.shape"
   ]
  },
  {
   "cell_type": "code",
   "execution_count": 8,
   "metadata": {},
   "outputs": [
    {
     "name": "stdout",
     "output_type": "stream",
     "text": [
      "Crosses_Stp% :  ['Robin Zentner', 'Emiliano Martínez']\n",
      "Passes_Att :  ['Manuel Riemann']\n"
     ]
    }
   ],
   "source": [
    "for m in  ['Crosses_Stp%','Passes_Att']:\n",
    "    print(m,\": \",df[df[m] >= df[m].quantile(.99)].Player.unique().tolist())\n",
    "    df = df[df[m] < df[m].quantile(.99)]\n",
    "    "
   ]
  },
  {
   "cell_type": "code",
   "execution_count": 9,
   "metadata": {},
   "outputs": [
    {
     "data": {
      "text/html": [
       "<div>\n",
       "<style scoped>\n",
       "    .dataframe tbody tr th:only-of-type {\n",
       "        vertical-align: middle;\n",
       "    }\n",
       "\n",
       "    .dataframe tbody tr th {\n",
       "        vertical-align: top;\n",
       "    }\n",
       "\n",
       "    .dataframe thead th {\n",
       "        text-align: right;\n",
       "    }\n",
       "</style>\n",
       "<table border=\"1\" class=\"dataframe\">\n",
       "  <thead>\n",
       "    <tr style=\"text-align: right;\">\n",
       "      <th></th>\n",
       "      <th>Passes_Launch%</th>\n",
       "      <th>Passes_AvgLen</th>\n",
       "      <th>Goal Kicks_Launch%</th>\n",
       "      <th>Goal Kicks_AvgLen</th>\n",
       "      <th>Crosses_Stp%</th>\n",
       "      <th>Sweeper_#OPA</th>\n",
       "      <th>Sweeper_AvgDist</th>\n",
       "      <th>Passes_Att</th>\n",
       "    </tr>\n",
       "  </thead>\n",
       "  <tbody>\n",
       "    <tr>\n",
       "      <th>count</th>\n",
       "      <td>98.000000</td>\n",
       "      <td>98.000000</td>\n",
       "      <td>98.000000</td>\n",
       "      <td>98.000000</td>\n",
       "      <td>98.000000</td>\n",
       "      <td>98.000000</td>\n",
       "      <td>98.000000</td>\n",
       "      <td>98.000000</td>\n",
       "    </tr>\n",
       "    <tr>\n",
       "      <th>mean</th>\n",
       "      <td>35.776531</td>\n",
       "      <td>34.041837</td>\n",
       "      <td>52.033673</td>\n",
       "      <td>42.491837</td>\n",
       "      <td>5.829592</td>\n",
       "      <td>1.113980</td>\n",
       "      <td>14.625510</td>\n",
       "      <td>27.791837</td>\n",
       "    </tr>\n",
       "    <tr>\n",
       "      <th>std</th>\n",
       "      <td>11.475018</td>\n",
       "      <td>4.636741</td>\n",
       "      <td>16.621424</td>\n",
       "      <td>8.377912</td>\n",
       "      <td>1.880623</td>\n",
       "      <td>0.470588</td>\n",
       "      <td>2.316472</td>\n",
       "      <td>5.081109</td>\n",
       "    </tr>\n",
       "    <tr>\n",
       "      <th>min</th>\n",
       "      <td>13.000000</td>\n",
       "      <td>23.600000</td>\n",
       "      <td>20.600000</td>\n",
       "      <td>25.300000</td>\n",
       "      <td>1.100000</td>\n",
       "      <td>0.210000</td>\n",
       "      <td>9.700000</td>\n",
       "      <td>17.700000</td>\n",
       "    </tr>\n",
       "    <tr>\n",
       "      <th>25%</th>\n",
       "      <td>29.025000</td>\n",
       "      <td>31.300000</td>\n",
       "      <td>37.600000</td>\n",
       "      <td>35.425000</td>\n",
       "      <td>4.525000</td>\n",
       "      <td>0.702500</td>\n",
       "      <td>12.800000</td>\n",
       "      <td>24.125000</td>\n",
       "    </tr>\n",
       "    <tr>\n",
       "      <th>50%</th>\n",
       "      <td>33.950000</td>\n",
       "      <td>33.300000</td>\n",
       "      <td>53.050000</td>\n",
       "      <td>42.850000</td>\n",
       "      <td>5.800000</td>\n",
       "      <td>1.080000</td>\n",
       "      <td>14.750000</td>\n",
       "      <td>27.500000</td>\n",
       "    </tr>\n",
       "    <tr>\n",
       "      <th>75%</th>\n",
       "      <td>41.350000</td>\n",
       "      <td>36.350000</td>\n",
       "      <td>63.875000</td>\n",
       "      <td>48.400000</td>\n",
       "      <td>7.275000</td>\n",
       "      <td>1.457500</td>\n",
       "      <td>16.600000</td>\n",
       "      <td>31.000000</td>\n",
       "    </tr>\n",
       "    <tr>\n",
       "      <th>max</th>\n",
       "      <td>71.200000</td>\n",
       "      <td>48.000000</td>\n",
       "      <td>91.200000</td>\n",
       "      <td>69.600000</td>\n",
       "      <td>9.900000</td>\n",
       "      <td>2.320000</td>\n",
       "      <td>19.300000</td>\n",
       "      <td>39.800000</td>\n",
       "    </tr>\n",
       "  </tbody>\n",
       "</table>\n",
       "</div>"
      ],
      "text/plain": [
       "       Passes_Launch%  Passes_AvgLen  Goal Kicks_Launch%  Goal Kicks_AvgLen  \\\n",
       "count       98.000000      98.000000           98.000000          98.000000   \n",
       "mean        35.776531      34.041837           52.033673          42.491837   \n",
       "std         11.475018       4.636741           16.621424           8.377912   \n",
       "min         13.000000      23.600000           20.600000          25.300000   \n",
       "25%         29.025000      31.300000           37.600000          35.425000   \n",
       "50%         33.950000      33.300000           53.050000          42.850000   \n",
       "75%         41.350000      36.350000           63.875000          48.400000   \n",
       "max         71.200000      48.000000           91.200000          69.600000   \n",
       "\n",
       "       Crosses_Stp%  Sweeper_#OPA  Sweeper_AvgDist  Passes_Att  \n",
       "count     98.000000     98.000000        98.000000   98.000000  \n",
       "mean       5.829592      1.113980        14.625510   27.791837  \n",
       "std        1.880623      0.470588         2.316472    5.081109  \n",
       "min        1.100000      0.210000         9.700000   17.700000  \n",
       "25%        4.525000      0.702500        12.800000   24.125000  \n",
       "50%        5.800000      1.080000        14.750000   27.500000  \n",
       "75%        7.275000      1.457500        16.600000   31.000000  \n",
       "max        9.900000      2.320000        19.300000   39.800000  "
      ]
     },
     "execution_count": 9,
     "metadata": {},
     "output_type": "execute_result"
    }
   ],
   "source": [
    "df[metrics].describe()"
   ]
  },
  {
   "cell_type": "code",
   "execution_count": 10,
   "metadata": {},
   "outputs": [
    {
     "data": {
      "text/plain": [
       "(98, 34)"
      ]
     },
     "execution_count": 10,
     "metadata": {},
     "output_type": "execute_result"
    }
   ],
   "source": [
    "df.shape"
   ]
  },
  {
   "cell_type": "code",
   "execution_count": 11,
   "metadata": {},
   "outputs": [],
   "source": [
    "df_ms = df[['Player']+metrics]\n",
    "df_ms[metrics]= scaler.fit_transform(df_ms[metrics])"
   ]
  },
  {
   "cell_type": "code",
   "execution_count": 12,
   "metadata": {},
   "outputs": [],
   "source": [
    "for x in rev_metrics:\n",
    "    df_ms[\"Rev_\"+x] = 1-df_ms[x]"
   ]
  },
  {
   "cell_type": "code",
   "execution_count": 13,
   "metadata": {},
   "outputs": [],
   "source": [
    "df_ms = df_ms[['Player', 'Crosses_Stp%', 'Sweeper_#OPA', 'Sweeper_AvgDist',\n",
    "       'Rev_Passes_Launch%', 'Rev_Passes_AvgLen', 'Rev_Goal Kicks_Launch%',\n",
    "       'Rev_Goal Kicks_AvgLen','Passes_Att']]"
   ]
  },
  {
   "cell_type": "code",
   "execution_count": 14,
   "metadata": {},
   "outputs": [
    {
     "data": {
      "text/html": [
       "<div>\n",
       "<style scoped>\n",
       "    .dataframe tbody tr th:only-of-type {\n",
       "        vertical-align: middle;\n",
       "    }\n",
       "\n",
       "    .dataframe tbody tr th {\n",
       "        vertical-align: top;\n",
       "    }\n",
       "\n",
       "    .dataframe thead th {\n",
       "        text-align: right;\n",
       "    }\n",
       "</style>\n",
       "<table border=\"1\" class=\"dataframe\">\n",
       "  <thead>\n",
       "    <tr style=\"text-align: right;\">\n",
       "      <th></th>\n",
       "      <th>Player</th>\n",
       "      <th>Crosses_Stp%</th>\n",
       "      <th>Sweeper_#OPA</th>\n",
       "      <th>Sweeper_AvgDist</th>\n",
       "      <th>Rev_Passes_Launch%</th>\n",
       "      <th>Rev_Passes_AvgLen</th>\n",
       "      <th>Rev_Goal Kicks_Launch%</th>\n",
       "      <th>Rev_Goal Kicks_AvgLen</th>\n",
       "      <th>Passes_Att</th>\n",
       "    </tr>\n",
       "  </thead>\n",
       "  <tbody>\n",
       "    <tr>\n",
       "      <th>1</th>\n",
       "      <td>Oliver Christensen</td>\n",
       "      <td>0.693182</td>\n",
       "      <td>1.000000</td>\n",
       "      <td>0.968750</td>\n",
       "      <td>0.508591</td>\n",
       "      <td>0.516393</td>\n",
       "      <td>0.297450</td>\n",
       "      <td>3.679458e-01</td>\n",
       "      <td>0.556561</td>\n",
       "    </tr>\n",
       "    <tr>\n",
       "      <th>2</th>\n",
       "      <td>Illan Meslier</td>\n",
       "      <td>0.761364</td>\n",
       "      <td>0.909953</td>\n",
       "      <td>0.739583</td>\n",
       "      <td>0.554983</td>\n",
       "      <td>0.594262</td>\n",
       "      <td>0.494334</td>\n",
       "      <td>5.914221e-01</td>\n",
       "      <td>0.239819</td>\n",
       "    </tr>\n",
       "    <tr>\n",
       "      <th>4</th>\n",
       "      <td>Kepa Arrizabalaga</td>\n",
       "      <td>0.397727</td>\n",
       "      <td>0.890995</td>\n",
       "      <td>0.854167</td>\n",
       "      <td>0.932990</td>\n",
       "      <td>0.893443</td>\n",
       "      <td>0.720963</td>\n",
       "      <td>8.103837e-01</td>\n",
       "      <td>0.592760</td>\n",
       "    </tr>\n",
       "    <tr>\n",
       "      <th>6</th>\n",
       "      <td>Vanja Milinkovi?-Savi?</td>\n",
       "      <td>0.636364</td>\n",
       "      <td>0.862559</td>\n",
       "      <td>0.781250</td>\n",
       "      <td>0.431271</td>\n",
       "      <td>0.315574</td>\n",
       "      <td>0.000000</td>\n",
       "      <td>1.110223e-16</td>\n",
       "      <td>0.918552</td>\n",
       "    </tr>\n",
       "    <tr>\n",
       "      <th>7</th>\n",
       "      <td>Nick Pope</td>\n",
       "      <td>0.761364</td>\n",
       "      <td>0.857820</td>\n",
       "      <td>0.854167</td>\n",
       "      <td>0.640893</td>\n",
       "      <td>0.606557</td>\n",
       "      <td>0.286119</td>\n",
       "      <td>4.040632e-01</td>\n",
       "      <td>0.076923</td>\n",
       "    </tr>\n",
       "  </tbody>\n",
       "</table>\n",
       "</div>"
      ],
      "text/plain": [
       "                   Player  Crosses_Stp%  Sweeper_#OPA  Sweeper_AvgDist  \\\n",
       "1      Oliver Christensen      0.693182      1.000000         0.968750   \n",
       "2           Illan Meslier      0.761364      0.909953         0.739583   \n",
       "4       Kepa Arrizabalaga      0.397727      0.890995         0.854167   \n",
       "6  Vanja Milinkovi?-Savi?      0.636364      0.862559         0.781250   \n",
       "7               Nick Pope      0.761364      0.857820         0.854167   \n",
       "\n",
       "   Rev_Passes_Launch%  Rev_Passes_AvgLen  Rev_Goal Kicks_Launch%  \\\n",
       "1            0.508591           0.516393                0.297450   \n",
       "2            0.554983           0.594262                0.494334   \n",
       "4            0.932990           0.893443                0.720963   \n",
       "6            0.431271           0.315574                0.000000   \n",
       "7            0.640893           0.606557                0.286119   \n",
       "\n",
       "   Rev_Goal Kicks_AvgLen  Passes_Att  \n",
       "1           3.679458e-01    0.556561  \n",
       "2           5.914221e-01    0.239819  \n",
       "4           8.103837e-01    0.592760  \n",
       "6           1.110223e-16    0.918552  \n",
       "7           4.040632e-01    0.076923  "
      ]
     },
     "execution_count": 14,
     "metadata": {},
     "output_type": "execute_result"
    }
   ],
   "source": [
    "df_ms.head()"
   ]
  },
  {
   "cell_type": "code",
   "execution_count": 15,
   "metadata": {},
   "outputs": [],
   "source": [
    "final_metrics = [x for x in df_ms.columns if x !='Player']"
   ]
  },
  {
   "attachments": {},
   "cell_type": "markdown",
   "metadata": {},
   "source": [
    "## Visualizations"
   ]
  },
  {
   "attachments": {},
   "cell_type": "markdown",
   "metadata": {},
   "source": [
    "### Alisson & Ederson"
   ]
  },
  {
   "cell_type": "code",
   "execution_count": 16,
   "metadata": {},
   "outputs": [
    {
     "data": {
      "application/vnd.plotly.v1+json": {
       "config": {
        "plotlyServerURL": "https://plot.ly"
       },
       "data": [
        {
         "fill": "toself",
         "name": "Alisson",
         "r": [
          0.5,
          0.8341232227488151,
          1,
          0.9175257731958764,
          0.8852459016393444,
          0.971671388101983,
          0.9029345372460497,
          0.7375565610859731
         ],
         "theta": [
          "Crosses_Stp%",
          "Sweeper_#OPA",
          "Sweeper_AvgDist",
          "Rev_Passes_Launch%",
          "Rev_Passes_AvgLen",
          "Rev_Goal Kicks_Launch%",
          "Rev_Goal Kicks_AvgLen",
          "Passes_Att"
         ],
         "type": "scatterpolar"
        },
        {
         "fill": "toself",
         "name": "Ederson",
         "r": [
          0.7840909090909091,
          0.4075829383886256,
          0.6770833333333333,
          0.895189003436426,
          0.819672131147541,
          0.8951841359773371,
          0.8623024830699775,
          0.6063348416289596
         ],
         "theta": [
          "Crosses_Stp%",
          "Sweeper_#OPA",
          "Sweeper_AvgDist",
          "Rev_Passes_Launch%",
          "Rev_Passes_AvgLen",
          "Rev_Goal Kicks_Launch%",
          "Rev_Goal Kicks_AvgLen",
          "Passes_Att"
         ],
         "type": "scatterpolar"
        },
        {
         "fill": "toself",
         "name": "David de Gea",
         "r": [
          0.21590909090909088,
          0.29383886255924174,
          0.5,
          0.6804123711340206,
          0.6721311475409837,
          0.36402266288951834,
          0.4808126410835215,
          0.42533936651583737
         ],
         "theta": [
          "Crosses_Stp%",
          "Sweeper_#OPA",
          "Sweeper_AvgDist",
          "Rev_Passes_Launch%",
          "Rev_Passes_AvgLen",
          "Rev_Goal Kicks_Launch%",
          "Rev_Goal Kicks_AvgLen",
          "Passes_Att"
         ],
         "type": "scatterpolar"
        }
       ],
       "layout": {
        "height": 600,
        "polar": {
         "radialaxis": {
          "range": [
           0,
           1
          ],
          "showticklabels": false,
          "visible": true
         }
        },
        "showlegend": true,
        "template": {
         "data": {
          "bar": [
           {
            "error_x": {
             "color": "#2a3f5f"
            },
            "error_y": {
             "color": "#2a3f5f"
            },
            "marker": {
             "line": {
              "color": "#E5ECF6",
              "width": 0.5
             },
             "pattern": {
              "fillmode": "overlay",
              "size": 10,
              "solidity": 0.2
             }
            },
            "type": "bar"
           }
          ],
          "barpolar": [
           {
            "marker": {
             "line": {
              "color": "#E5ECF6",
              "width": 0.5
             },
             "pattern": {
              "fillmode": "overlay",
              "size": 10,
              "solidity": 0.2
             }
            },
            "type": "barpolar"
           }
          ],
          "carpet": [
           {
            "aaxis": {
             "endlinecolor": "#2a3f5f",
             "gridcolor": "white",
             "linecolor": "white",
             "minorgridcolor": "white",
             "startlinecolor": "#2a3f5f"
            },
            "baxis": {
             "endlinecolor": "#2a3f5f",
             "gridcolor": "white",
             "linecolor": "white",
             "minorgridcolor": "white",
             "startlinecolor": "#2a3f5f"
            },
            "type": "carpet"
           }
          ],
          "choropleth": [
           {
            "colorbar": {
             "outlinewidth": 0,
             "ticks": ""
            },
            "type": "choropleth"
           }
          ],
          "contour": [
           {
            "colorbar": {
             "outlinewidth": 0,
             "ticks": ""
            },
            "colorscale": [
             [
              0,
              "#0d0887"
             ],
             [
              0.1111111111111111,
              "#46039f"
             ],
             [
              0.2222222222222222,
              "#7201a8"
             ],
             [
              0.3333333333333333,
              "#9c179e"
             ],
             [
              0.4444444444444444,
              "#bd3786"
             ],
             [
              0.5555555555555556,
              "#d8576b"
             ],
             [
              0.6666666666666666,
              "#ed7953"
             ],
             [
              0.7777777777777778,
              "#fb9f3a"
             ],
             [
              0.8888888888888888,
              "#fdca26"
             ],
             [
              1,
              "#f0f921"
             ]
            ],
            "type": "contour"
           }
          ],
          "contourcarpet": [
           {
            "colorbar": {
             "outlinewidth": 0,
             "ticks": ""
            },
            "type": "contourcarpet"
           }
          ],
          "heatmap": [
           {
            "colorbar": {
             "outlinewidth": 0,
             "ticks": ""
            },
            "colorscale": [
             [
              0,
              "#0d0887"
             ],
             [
              0.1111111111111111,
              "#46039f"
             ],
             [
              0.2222222222222222,
              "#7201a8"
             ],
             [
              0.3333333333333333,
              "#9c179e"
             ],
             [
              0.4444444444444444,
              "#bd3786"
             ],
             [
              0.5555555555555556,
              "#d8576b"
             ],
             [
              0.6666666666666666,
              "#ed7953"
             ],
             [
              0.7777777777777778,
              "#fb9f3a"
             ],
             [
              0.8888888888888888,
              "#fdca26"
             ],
             [
              1,
              "#f0f921"
             ]
            ],
            "type": "heatmap"
           }
          ],
          "heatmapgl": [
           {
            "colorbar": {
             "outlinewidth": 0,
             "ticks": ""
            },
            "colorscale": [
             [
              0,
              "#0d0887"
             ],
             [
              0.1111111111111111,
              "#46039f"
             ],
             [
              0.2222222222222222,
              "#7201a8"
             ],
             [
              0.3333333333333333,
              "#9c179e"
             ],
             [
              0.4444444444444444,
              "#bd3786"
             ],
             [
              0.5555555555555556,
              "#d8576b"
             ],
             [
              0.6666666666666666,
              "#ed7953"
             ],
             [
              0.7777777777777778,
              "#fb9f3a"
             ],
             [
              0.8888888888888888,
              "#fdca26"
             ],
             [
              1,
              "#f0f921"
             ]
            ],
            "type": "heatmapgl"
           }
          ],
          "histogram": [
           {
            "marker": {
             "pattern": {
              "fillmode": "overlay",
              "size": 10,
              "solidity": 0.2
             }
            },
            "type": "histogram"
           }
          ],
          "histogram2d": [
           {
            "colorbar": {
             "outlinewidth": 0,
             "ticks": ""
            },
            "colorscale": [
             [
              0,
              "#0d0887"
             ],
             [
              0.1111111111111111,
              "#46039f"
             ],
             [
              0.2222222222222222,
              "#7201a8"
             ],
             [
              0.3333333333333333,
              "#9c179e"
             ],
             [
              0.4444444444444444,
              "#bd3786"
             ],
             [
              0.5555555555555556,
              "#d8576b"
             ],
             [
              0.6666666666666666,
              "#ed7953"
             ],
             [
              0.7777777777777778,
              "#fb9f3a"
             ],
             [
              0.8888888888888888,
              "#fdca26"
             ],
             [
              1,
              "#f0f921"
             ]
            ],
            "type": "histogram2d"
           }
          ],
          "histogram2dcontour": [
           {
            "colorbar": {
             "outlinewidth": 0,
             "ticks": ""
            },
            "colorscale": [
             [
              0,
              "#0d0887"
             ],
             [
              0.1111111111111111,
              "#46039f"
             ],
             [
              0.2222222222222222,
              "#7201a8"
             ],
             [
              0.3333333333333333,
              "#9c179e"
             ],
             [
              0.4444444444444444,
              "#bd3786"
             ],
             [
              0.5555555555555556,
              "#d8576b"
             ],
             [
              0.6666666666666666,
              "#ed7953"
             ],
             [
              0.7777777777777778,
              "#fb9f3a"
             ],
             [
              0.8888888888888888,
              "#fdca26"
             ],
             [
              1,
              "#f0f921"
             ]
            ],
            "type": "histogram2dcontour"
           }
          ],
          "mesh3d": [
           {
            "colorbar": {
             "outlinewidth": 0,
             "ticks": ""
            },
            "type": "mesh3d"
           }
          ],
          "parcoords": [
           {
            "line": {
             "colorbar": {
              "outlinewidth": 0,
              "ticks": ""
             }
            },
            "type": "parcoords"
           }
          ],
          "pie": [
           {
            "automargin": true,
            "type": "pie"
           }
          ],
          "scatter": [
           {
            "fillpattern": {
             "fillmode": "overlay",
             "size": 10,
             "solidity": 0.2
            },
            "type": "scatter"
           }
          ],
          "scatter3d": [
           {
            "line": {
             "colorbar": {
              "outlinewidth": 0,
              "ticks": ""
             }
            },
            "marker": {
             "colorbar": {
              "outlinewidth": 0,
              "ticks": ""
             }
            },
            "type": "scatter3d"
           }
          ],
          "scattercarpet": [
           {
            "marker": {
             "colorbar": {
              "outlinewidth": 0,
              "ticks": ""
             }
            },
            "type": "scattercarpet"
           }
          ],
          "scattergeo": [
           {
            "marker": {
             "colorbar": {
              "outlinewidth": 0,
              "ticks": ""
             }
            },
            "type": "scattergeo"
           }
          ],
          "scattergl": [
           {
            "marker": {
             "colorbar": {
              "outlinewidth": 0,
              "ticks": ""
             }
            },
            "type": "scattergl"
           }
          ],
          "scattermapbox": [
           {
            "marker": {
             "colorbar": {
              "outlinewidth": 0,
              "ticks": ""
             }
            },
            "type": "scattermapbox"
           }
          ],
          "scatterpolar": [
           {
            "marker": {
             "colorbar": {
              "outlinewidth": 0,
              "ticks": ""
             }
            },
            "type": "scatterpolar"
           }
          ],
          "scatterpolargl": [
           {
            "marker": {
             "colorbar": {
              "outlinewidth": 0,
              "ticks": ""
             }
            },
            "type": "scatterpolargl"
           }
          ],
          "scatterternary": [
           {
            "marker": {
             "colorbar": {
              "outlinewidth": 0,
              "ticks": ""
             }
            },
            "type": "scatterternary"
           }
          ],
          "surface": [
           {
            "colorbar": {
             "outlinewidth": 0,
             "ticks": ""
            },
            "colorscale": [
             [
              0,
              "#0d0887"
             ],
             [
              0.1111111111111111,
              "#46039f"
             ],
             [
              0.2222222222222222,
              "#7201a8"
             ],
             [
              0.3333333333333333,
              "#9c179e"
             ],
             [
              0.4444444444444444,
              "#bd3786"
             ],
             [
              0.5555555555555556,
              "#d8576b"
             ],
             [
              0.6666666666666666,
              "#ed7953"
             ],
             [
              0.7777777777777778,
              "#fb9f3a"
             ],
             [
              0.8888888888888888,
              "#fdca26"
             ],
             [
              1,
              "#f0f921"
             ]
            ],
            "type": "surface"
           }
          ],
          "table": [
           {
            "cells": {
             "fill": {
              "color": "#EBF0F8"
             },
             "line": {
              "color": "white"
             }
            },
            "header": {
             "fill": {
              "color": "#C8D4E3"
             },
             "line": {
              "color": "white"
             }
            },
            "type": "table"
           }
          ]
         },
         "layout": {
          "annotationdefaults": {
           "arrowcolor": "#2a3f5f",
           "arrowhead": 0,
           "arrowwidth": 1
          },
          "autotypenumbers": "strict",
          "coloraxis": {
           "colorbar": {
            "outlinewidth": 0,
            "ticks": ""
           }
          },
          "colorscale": {
           "diverging": [
            [
             0,
             "#8e0152"
            ],
            [
             0.1,
             "#c51b7d"
            ],
            [
             0.2,
             "#de77ae"
            ],
            [
             0.3,
             "#f1b6da"
            ],
            [
             0.4,
             "#fde0ef"
            ],
            [
             0.5,
             "#f7f7f7"
            ],
            [
             0.6,
             "#e6f5d0"
            ],
            [
             0.7,
             "#b8e186"
            ],
            [
             0.8,
             "#7fbc41"
            ],
            [
             0.9,
             "#4d9221"
            ],
            [
             1,
             "#276419"
            ]
           ],
           "sequential": [
            [
             0,
             "#0d0887"
            ],
            [
             0.1111111111111111,
             "#46039f"
            ],
            [
             0.2222222222222222,
             "#7201a8"
            ],
            [
             0.3333333333333333,
             "#9c179e"
            ],
            [
             0.4444444444444444,
             "#bd3786"
            ],
            [
             0.5555555555555556,
             "#d8576b"
            ],
            [
             0.6666666666666666,
             "#ed7953"
            ],
            [
             0.7777777777777778,
             "#fb9f3a"
            ],
            [
             0.8888888888888888,
             "#fdca26"
            ],
            [
             1,
             "#f0f921"
            ]
           ],
           "sequentialminus": [
            [
             0,
             "#0d0887"
            ],
            [
             0.1111111111111111,
             "#46039f"
            ],
            [
             0.2222222222222222,
             "#7201a8"
            ],
            [
             0.3333333333333333,
             "#9c179e"
            ],
            [
             0.4444444444444444,
             "#bd3786"
            ],
            [
             0.5555555555555556,
             "#d8576b"
            ],
            [
             0.6666666666666666,
             "#ed7953"
            ],
            [
             0.7777777777777778,
             "#fb9f3a"
            ],
            [
             0.8888888888888888,
             "#fdca26"
            ],
            [
             1,
             "#f0f921"
            ]
           ]
          },
          "colorway": [
           "#636efa",
           "#EF553B",
           "#00cc96",
           "#ab63fa",
           "#FFA15A",
           "#19d3f3",
           "#FF6692",
           "#B6E880",
           "#FF97FF",
           "#FECB52"
          ],
          "font": {
           "color": "#2a3f5f"
          },
          "geo": {
           "bgcolor": "white",
           "lakecolor": "white",
           "landcolor": "#E5ECF6",
           "showlakes": true,
           "showland": true,
           "subunitcolor": "white"
          },
          "hoverlabel": {
           "align": "left"
          },
          "hovermode": "closest",
          "mapbox": {
           "style": "light"
          },
          "paper_bgcolor": "white",
          "plot_bgcolor": "#E5ECF6",
          "polar": {
           "angularaxis": {
            "gridcolor": "white",
            "linecolor": "white",
            "ticks": ""
           },
           "bgcolor": "#E5ECF6",
           "radialaxis": {
            "gridcolor": "white",
            "linecolor": "white",
            "ticks": ""
           }
          },
          "scene": {
           "xaxis": {
            "backgroundcolor": "#E5ECF6",
            "gridcolor": "white",
            "gridwidth": 2,
            "linecolor": "white",
            "showbackground": true,
            "ticks": "",
            "zerolinecolor": "white"
           },
           "yaxis": {
            "backgroundcolor": "#E5ECF6",
            "gridcolor": "white",
            "gridwidth": 2,
            "linecolor": "white",
            "showbackground": true,
            "ticks": "",
            "zerolinecolor": "white"
           },
           "zaxis": {
            "backgroundcolor": "#E5ECF6",
            "gridcolor": "white",
            "gridwidth": 2,
            "linecolor": "white",
            "showbackground": true,
            "ticks": "",
            "zerolinecolor": "white"
           }
          },
          "shapedefaults": {
           "line": {
            "color": "#2a3f5f"
           }
          },
          "ternary": {
           "aaxis": {
            "gridcolor": "white",
            "linecolor": "white",
            "ticks": ""
           },
           "baxis": {
            "gridcolor": "white",
            "linecolor": "white",
            "ticks": ""
           },
           "bgcolor": "#E5ECF6",
           "caxis": {
            "gridcolor": "white",
            "linecolor": "white",
            "ticks": ""
           }
          },
          "title": {
           "x": 0.05
          },
          "xaxis": {
           "automargin": true,
           "gridcolor": "white",
           "linecolor": "white",
           "ticks": "",
           "title": {
            "standoff": 15
           },
           "zerolinecolor": "white",
           "zerolinewidth": 2
          },
          "yaxis": {
           "automargin": true,
           "gridcolor": "white",
           "linecolor": "white",
           "ticks": "",
           "title": {
            "standoff": 15
           },
           "zerolinecolor": "white",
           "zerolinewidth": 2
          }
         }
        },
        "title": {
         "text": "GK Playmaking Profile",
         "x": 0.5
        },
        "width": 800
       }
      }
     },
     "metadata": {},
     "output_type": "display_data"
    }
   ],
   "source": [
    "fig = utils.plot_radar(player_dict={\n",
    "    'Alisson':utils.generate_stats(df_ms, 'Alisson', final_metrics),\n",
    "    'Ederson':utils.generate_stats(df_ms, 'Ederson', final_metrics),\n",
    "    # 'Aaron Ramsdale':utils.generate_stats(df_ms, 'Aaron Ramsdale', final_metrics),\n",
    "    'David de Gea':utils.generate_stats(df_ms, 'David de Gea', final_metrics)\n",
    "    }, \n",
    "                       categories=final_metrics, title='GK Playmaking Profile', value='Statistics')\n"
   ]
  },
  {
   "attachments": {},
   "cell_type": "markdown",
   "metadata": {},
   "source": [
    "### Top 5 Leagues"
   ]
  },
  {
   "cell_type": "code",
   "execution_count": 17,
   "metadata": {},
   "outputs": [],
   "source": [
    "league_dict={}\n",
    "for league in df.Comp.unique():\n",
    "    gks = df.loc[df.Comp==league].Player.unique().tolist()\n",
    "    df_temp = pd.DataFrame(df_ms.loc[df_ms.Player.isin(gks)][final_metrics].mean())\n",
    "    df_temp.columns=['Statistics']\n",
    "    league_dict.update({league:df_temp})\n",
    "league_dict.update({'David de Gea':utils.generate_stats(df_ms, 'David de Gea', final_metrics)})"
   ]
  },
  {
   "cell_type": "code",
   "execution_count": 18,
   "metadata": {},
   "outputs": [
    {
     "data": {
      "application/vnd.plotly.v1+json": {
       "config": {
        "plotlyServerURL": "https://plot.ly"
       },
       "data": [
        {
         "fill": "toself",
         "name": "de Bundesliga",
         "r": [
          0.5325757575757576,
          0.5090047393364928,
          0.6111111111111112,
          0.6626575028636883,
          0.6270491803278688,
          0.6096317280453258,
          0.6266365688487584,
          0.6992458521870287
         ],
         "theta": [
          "Crosses_Stp%",
          "Sweeper_#OPA",
          "Sweeper_AvgDist",
          "Rev_Passes_Launch%",
          "Rev_Passes_AvgLen",
          "Rev_Goal Kicks_Launch%",
          "Rev_Goal Kicks_AvgLen",
          "Passes_Att"
         ],
         "type": "scatterpolar"
        },
        {
         "fill": "toself",
         "name": "eng Premier League",
         "r": [
          0.6076555023923444,
          0.5325517585432775,
          0.5734649122807017,
          0.6124073069271116,
          0.6041846419327006,
          0.5495005218428507,
          0.6294404182012594,
          0.41867111216956426
         ],
         "theta": [
          "Crosses_Stp%",
          "Sweeper_#OPA",
          "Sweeper_AvgDist",
          "Rev_Passes_Launch%",
          "Rev_Passes_AvgLen",
          "Rev_Goal Kicks_Launch%",
          "Rev_Goal Kicks_AvgLen",
          "Passes_Att"
         ],
         "type": "scatterpolar"
        },
        {
         "fill": "toself",
         "name": "it Serie A",
         "r": [
          0.44008264462809915,
          0.3948728996122361,
          0.5099431818181818,
          0.5832552327397688,
          0.5329731743666172,
          0.5849858356940509,
          0.6199466447773445,
          0.4800493624023037
         ],
         "theta": [
          "Crosses_Stp%",
          "Sweeper_#OPA",
          "Sweeper_AvgDist",
          "Rev_Passes_Launch%",
          "Rev_Passes_AvgLen",
          "Rev_Goal Kicks_Launch%",
          "Rev_Goal Kicks_AvgLen",
          "Passes_Att"
         ],
         "type": "scatterpolar"
        },
        {
         "fill": "toself",
         "name": "fr Ligue 1",
         "r": [
          0.5898268398268398,
          0.30783118934777703,
          0.3209325396825397,
          0.6505481917853052,
          0.6231459797033567,
          0.561581006340213,
          0.6524776953670861,
          0.3337642749407456
         ],
         "theta": [
          "Crosses_Stp%",
          "Sweeper_#OPA",
          "Sweeper_AvgDist",
          "Rev_Passes_Launch%",
          "Rev_Passes_AvgLen",
          "Rev_Goal Kicks_Launch%",
          "Rev_Goal Kicks_AvgLen",
          "Passes_Att"
         ],
         "type": "scatterpolar"
        },
        {
         "fill": "toself",
         "name": "es La Liga",
         "r": [
          0.527056277056277,
          0.43240803430376884,
          0.583829365079365,
          0.5513827524136802,
          0.49355971896955503,
          0.4818561985700795,
          0.5366010964205095,
          0.41607412195647503
         ],
         "theta": [
          "Crosses_Stp%",
          "Sweeper_#OPA",
          "Sweeper_AvgDist",
          "Rev_Passes_Launch%",
          "Rev_Passes_AvgLen",
          "Rev_Goal Kicks_Launch%",
          "Rev_Goal Kicks_AvgLen",
          "Passes_Att"
         ],
         "type": "scatterpolar"
        },
        {
         "fill": "toself",
         "name": "David de Gea",
         "r": [
          0.21590909090909088,
          0.29383886255924174,
          0.5,
          0.6804123711340206,
          0.6721311475409837,
          0.36402266288951834,
          0.4808126410835215,
          0.42533936651583737
         ],
         "theta": [
          "Crosses_Stp%",
          "Sweeper_#OPA",
          "Sweeper_AvgDist",
          "Rev_Passes_Launch%",
          "Rev_Passes_AvgLen",
          "Rev_Goal Kicks_Launch%",
          "Rev_Goal Kicks_AvgLen",
          "Passes_Att"
         ],
         "type": "scatterpolar"
        }
       ],
       "layout": {
        "height": 600,
        "polar": {
         "radialaxis": {
          "range": [
           0,
           1
          ],
          "showticklabels": false,
          "visible": true
         }
        },
        "showlegend": true,
        "template": {
         "data": {
          "bar": [
           {
            "error_x": {
             "color": "#2a3f5f"
            },
            "error_y": {
             "color": "#2a3f5f"
            },
            "marker": {
             "line": {
              "color": "#E5ECF6",
              "width": 0.5
             },
             "pattern": {
              "fillmode": "overlay",
              "size": 10,
              "solidity": 0.2
             }
            },
            "type": "bar"
           }
          ],
          "barpolar": [
           {
            "marker": {
             "line": {
              "color": "#E5ECF6",
              "width": 0.5
             },
             "pattern": {
              "fillmode": "overlay",
              "size": 10,
              "solidity": 0.2
             }
            },
            "type": "barpolar"
           }
          ],
          "carpet": [
           {
            "aaxis": {
             "endlinecolor": "#2a3f5f",
             "gridcolor": "white",
             "linecolor": "white",
             "minorgridcolor": "white",
             "startlinecolor": "#2a3f5f"
            },
            "baxis": {
             "endlinecolor": "#2a3f5f",
             "gridcolor": "white",
             "linecolor": "white",
             "minorgridcolor": "white",
             "startlinecolor": "#2a3f5f"
            },
            "type": "carpet"
           }
          ],
          "choropleth": [
           {
            "colorbar": {
             "outlinewidth": 0,
             "ticks": ""
            },
            "type": "choropleth"
           }
          ],
          "contour": [
           {
            "colorbar": {
             "outlinewidth": 0,
             "ticks": ""
            },
            "colorscale": [
             [
              0,
              "#0d0887"
             ],
             [
              0.1111111111111111,
              "#46039f"
             ],
             [
              0.2222222222222222,
              "#7201a8"
             ],
             [
              0.3333333333333333,
              "#9c179e"
             ],
             [
              0.4444444444444444,
              "#bd3786"
             ],
             [
              0.5555555555555556,
              "#d8576b"
             ],
             [
              0.6666666666666666,
              "#ed7953"
             ],
             [
              0.7777777777777778,
              "#fb9f3a"
             ],
             [
              0.8888888888888888,
              "#fdca26"
             ],
             [
              1,
              "#f0f921"
             ]
            ],
            "type": "contour"
           }
          ],
          "contourcarpet": [
           {
            "colorbar": {
             "outlinewidth": 0,
             "ticks": ""
            },
            "type": "contourcarpet"
           }
          ],
          "heatmap": [
           {
            "colorbar": {
             "outlinewidth": 0,
             "ticks": ""
            },
            "colorscale": [
             [
              0,
              "#0d0887"
             ],
             [
              0.1111111111111111,
              "#46039f"
             ],
             [
              0.2222222222222222,
              "#7201a8"
             ],
             [
              0.3333333333333333,
              "#9c179e"
             ],
             [
              0.4444444444444444,
              "#bd3786"
             ],
             [
              0.5555555555555556,
              "#d8576b"
             ],
             [
              0.6666666666666666,
              "#ed7953"
             ],
             [
              0.7777777777777778,
              "#fb9f3a"
             ],
             [
              0.8888888888888888,
              "#fdca26"
             ],
             [
              1,
              "#f0f921"
             ]
            ],
            "type": "heatmap"
           }
          ],
          "heatmapgl": [
           {
            "colorbar": {
             "outlinewidth": 0,
             "ticks": ""
            },
            "colorscale": [
             [
              0,
              "#0d0887"
             ],
             [
              0.1111111111111111,
              "#46039f"
             ],
             [
              0.2222222222222222,
              "#7201a8"
             ],
             [
              0.3333333333333333,
              "#9c179e"
             ],
             [
              0.4444444444444444,
              "#bd3786"
             ],
             [
              0.5555555555555556,
              "#d8576b"
             ],
             [
              0.6666666666666666,
              "#ed7953"
             ],
             [
              0.7777777777777778,
              "#fb9f3a"
             ],
             [
              0.8888888888888888,
              "#fdca26"
             ],
             [
              1,
              "#f0f921"
             ]
            ],
            "type": "heatmapgl"
           }
          ],
          "histogram": [
           {
            "marker": {
             "pattern": {
              "fillmode": "overlay",
              "size": 10,
              "solidity": 0.2
             }
            },
            "type": "histogram"
           }
          ],
          "histogram2d": [
           {
            "colorbar": {
             "outlinewidth": 0,
             "ticks": ""
            },
            "colorscale": [
             [
              0,
              "#0d0887"
             ],
             [
              0.1111111111111111,
              "#46039f"
             ],
             [
              0.2222222222222222,
              "#7201a8"
             ],
             [
              0.3333333333333333,
              "#9c179e"
             ],
             [
              0.4444444444444444,
              "#bd3786"
             ],
             [
              0.5555555555555556,
              "#d8576b"
             ],
             [
              0.6666666666666666,
              "#ed7953"
             ],
             [
              0.7777777777777778,
              "#fb9f3a"
             ],
             [
              0.8888888888888888,
              "#fdca26"
             ],
             [
              1,
              "#f0f921"
             ]
            ],
            "type": "histogram2d"
           }
          ],
          "histogram2dcontour": [
           {
            "colorbar": {
             "outlinewidth": 0,
             "ticks": ""
            },
            "colorscale": [
             [
              0,
              "#0d0887"
             ],
             [
              0.1111111111111111,
              "#46039f"
             ],
             [
              0.2222222222222222,
              "#7201a8"
             ],
             [
              0.3333333333333333,
              "#9c179e"
             ],
             [
              0.4444444444444444,
              "#bd3786"
             ],
             [
              0.5555555555555556,
              "#d8576b"
             ],
             [
              0.6666666666666666,
              "#ed7953"
             ],
             [
              0.7777777777777778,
              "#fb9f3a"
             ],
             [
              0.8888888888888888,
              "#fdca26"
             ],
             [
              1,
              "#f0f921"
             ]
            ],
            "type": "histogram2dcontour"
           }
          ],
          "mesh3d": [
           {
            "colorbar": {
             "outlinewidth": 0,
             "ticks": ""
            },
            "type": "mesh3d"
           }
          ],
          "parcoords": [
           {
            "line": {
             "colorbar": {
              "outlinewidth": 0,
              "ticks": ""
             }
            },
            "type": "parcoords"
           }
          ],
          "pie": [
           {
            "automargin": true,
            "type": "pie"
           }
          ],
          "scatter": [
           {
            "fillpattern": {
             "fillmode": "overlay",
             "size": 10,
             "solidity": 0.2
            },
            "type": "scatter"
           }
          ],
          "scatter3d": [
           {
            "line": {
             "colorbar": {
              "outlinewidth": 0,
              "ticks": ""
             }
            },
            "marker": {
             "colorbar": {
              "outlinewidth": 0,
              "ticks": ""
             }
            },
            "type": "scatter3d"
           }
          ],
          "scattercarpet": [
           {
            "marker": {
             "colorbar": {
              "outlinewidth": 0,
              "ticks": ""
             }
            },
            "type": "scattercarpet"
           }
          ],
          "scattergeo": [
           {
            "marker": {
             "colorbar": {
              "outlinewidth": 0,
              "ticks": ""
             }
            },
            "type": "scattergeo"
           }
          ],
          "scattergl": [
           {
            "marker": {
             "colorbar": {
              "outlinewidth": 0,
              "ticks": ""
             }
            },
            "type": "scattergl"
           }
          ],
          "scattermapbox": [
           {
            "marker": {
             "colorbar": {
              "outlinewidth": 0,
              "ticks": ""
             }
            },
            "type": "scattermapbox"
           }
          ],
          "scatterpolar": [
           {
            "marker": {
             "colorbar": {
              "outlinewidth": 0,
              "ticks": ""
             }
            },
            "type": "scatterpolar"
           }
          ],
          "scatterpolargl": [
           {
            "marker": {
             "colorbar": {
              "outlinewidth": 0,
              "ticks": ""
             }
            },
            "type": "scatterpolargl"
           }
          ],
          "scatterternary": [
           {
            "marker": {
             "colorbar": {
              "outlinewidth": 0,
              "ticks": ""
             }
            },
            "type": "scatterternary"
           }
          ],
          "surface": [
           {
            "colorbar": {
             "outlinewidth": 0,
             "ticks": ""
            },
            "colorscale": [
             [
              0,
              "#0d0887"
             ],
             [
              0.1111111111111111,
              "#46039f"
             ],
             [
              0.2222222222222222,
              "#7201a8"
             ],
             [
              0.3333333333333333,
              "#9c179e"
             ],
             [
              0.4444444444444444,
              "#bd3786"
             ],
             [
              0.5555555555555556,
              "#d8576b"
             ],
             [
              0.6666666666666666,
              "#ed7953"
             ],
             [
              0.7777777777777778,
              "#fb9f3a"
             ],
             [
              0.8888888888888888,
              "#fdca26"
             ],
             [
              1,
              "#f0f921"
             ]
            ],
            "type": "surface"
           }
          ],
          "table": [
           {
            "cells": {
             "fill": {
              "color": "#EBF0F8"
             },
             "line": {
              "color": "white"
             }
            },
            "header": {
             "fill": {
              "color": "#C8D4E3"
             },
             "line": {
              "color": "white"
             }
            },
            "type": "table"
           }
          ]
         },
         "layout": {
          "annotationdefaults": {
           "arrowcolor": "#2a3f5f",
           "arrowhead": 0,
           "arrowwidth": 1
          },
          "autotypenumbers": "strict",
          "coloraxis": {
           "colorbar": {
            "outlinewidth": 0,
            "ticks": ""
           }
          },
          "colorscale": {
           "diverging": [
            [
             0,
             "#8e0152"
            ],
            [
             0.1,
             "#c51b7d"
            ],
            [
             0.2,
             "#de77ae"
            ],
            [
             0.3,
             "#f1b6da"
            ],
            [
             0.4,
             "#fde0ef"
            ],
            [
             0.5,
             "#f7f7f7"
            ],
            [
             0.6,
             "#e6f5d0"
            ],
            [
             0.7,
             "#b8e186"
            ],
            [
             0.8,
             "#7fbc41"
            ],
            [
             0.9,
             "#4d9221"
            ],
            [
             1,
             "#276419"
            ]
           ],
           "sequential": [
            [
             0,
             "#0d0887"
            ],
            [
             0.1111111111111111,
             "#46039f"
            ],
            [
             0.2222222222222222,
             "#7201a8"
            ],
            [
             0.3333333333333333,
             "#9c179e"
            ],
            [
             0.4444444444444444,
             "#bd3786"
            ],
            [
             0.5555555555555556,
             "#d8576b"
            ],
            [
             0.6666666666666666,
             "#ed7953"
            ],
            [
             0.7777777777777778,
             "#fb9f3a"
            ],
            [
             0.8888888888888888,
             "#fdca26"
            ],
            [
             1,
             "#f0f921"
            ]
           ],
           "sequentialminus": [
            [
             0,
             "#0d0887"
            ],
            [
             0.1111111111111111,
             "#46039f"
            ],
            [
             0.2222222222222222,
             "#7201a8"
            ],
            [
             0.3333333333333333,
             "#9c179e"
            ],
            [
             0.4444444444444444,
             "#bd3786"
            ],
            [
             0.5555555555555556,
             "#d8576b"
            ],
            [
             0.6666666666666666,
             "#ed7953"
            ],
            [
             0.7777777777777778,
             "#fb9f3a"
            ],
            [
             0.8888888888888888,
             "#fdca26"
            ],
            [
             1,
             "#f0f921"
            ]
           ]
          },
          "colorway": [
           "#636efa",
           "#EF553B",
           "#00cc96",
           "#ab63fa",
           "#FFA15A",
           "#19d3f3",
           "#FF6692",
           "#B6E880",
           "#FF97FF",
           "#FECB52"
          ],
          "font": {
           "color": "#2a3f5f"
          },
          "geo": {
           "bgcolor": "white",
           "lakecolor": "white",
           "landcolor": "#E5ECF6",
           "showlakes": true,
           "showland": true,
           "subunitcolor": "white"
          },
          "hoverlabel": {
           "align": "left"
          },
          "hovermode": "closest",
          "mapbox": {
           "style": "light"
          },
          "paper_bgcolor": "white",
          "plot_bgcolor": "#E5ECF6",
          "polar": {
           "angularaxis": {
            "gridcolor": "white",
            "linecolor": "white",
            "ticks": ""
           },
           "bgcolor": "#E5ECF6",
           "radialaxis": {
            "gridcolor": "white",
            "linecolor": "white",
            "ticks": ""
           }
          },
          "scene": {
           "xaxis": {
            "backgroundcolor": "#E5ECF6",
            "gridcolor": "white",
            "gridwidth": 2,
            "linecolor": "white",
            "showbackground": true,
            "ticks": "",
            "zerolinecolor": "white"
           },
           "yaxis": {
            "backgroundcolor": "#E5ECF6",
            "gridcolor": "white",
            "gridwidth": 2,
            "linecolor": "white",
            "showbackground": true,
            "ticks": "",
            "zerolinecolor": "white"
           },
           "zaxis": {
            "backgroundcolor": "#E5ECF6",
            "gridcolor": "white",
            "gridwidth": 2,
            "linecolor": "white",
            "showbackground": true,
            "ticks": "",
            "zerolinecolor": "white"
           }
          },
          "shapedefaults": {
           "line": {
            "color": "#2a3f5f"
           }
          },
          "ternary": {
           "aaxis": {
            "gridcolor": "white",
            "linecolor": "white",
            "ticks": ""
           },
           "baxis": {
            "gridcolor": "white",
            "linecolor": "white",
            "ticks": ""
           },
           "bgcolor": "#E5ECF6",
           "caxis": {
            "gridcolor": "white",
            "linecolor": "white",
            "ticks": ""
           }
          },
          "title": {
           "x": 0.05
          },
          "xaxis": {
           "automargin": true,
           "gridcolor": "white",
           "linecolor": "white",
           "ticks": "",
           "title": {
            "standoff": 15
           },
           "zerolinecolor": "white",
           "zerolinewidth": 2
          },
          "yaxis": {
           "automargin": true,
           "gridcolor": "white",
           "linecolor": "white",
           "ticks": "",
           "title": {
            "standoff": 15
           },
           "zerolinecolor": "white",
           "zerolinewidth": 2
          }
         }
        },
        "title": {
         "text": "Avg Profile by League",
         "x": 0.5
        },
        "width": 800
       }
      }
     },
     "metadata": {},
     "output_type": "display_data"
    }
   ],
   "source": [
    "fig = utils.plot_radar(player_dict=league_dict, categories=final_metrics, title='Avg Profile by League', value='Statistics')"
   ]
  },
  {
   "attachments": {},
   "cell_type": "markdown",
   "metadata": {},
   "source": [
    "### Top 5 Leagues Top 2 Gks"
   ]
  },
  {
   "cell_type": "code",
   "execution_count": 19,
   "metadata": {},
   "outputs": [],
   "source": [
    "t2_league_dict={}\n",
    "t2_gks = []\n",
    "squads = ['Liverpool','Manchester City','Barcelona','Real Madrid','Bayern Munich','Dortmund','Napoli','Paris S-G','Marseille','Arsenal']\n",
    "for league in df.Comp.unique():\n",
    "    gks = df.loc[(df.Comp==league)&(df.Squad.isin(squads))].Player.unique().tolist()\n",
    "    t2_gks+=gks\n",
    "    df_temp = pd.DataFrame(df_ms.loc[df_ms.Player.isin(gks)][final_metrics].mean())\n",
    "    df_temp.columns=['Statistics']\n",
    "    t2_league_dict.update({league:df_temp})\n",
    "t2_league_dict.update({'David de Gea':utils.generate_stats(df_ms, 'David de Gea', final_metrics)})"
   ]
  },
  {
   "cell_type": "code",
   "execution_count": 23,
   "metadata": {},
   "outputs": [
    {
     "data": {
      "application/vnd.plotly.v1+json": {
       "config": {
        "plotlyServerURL": "https://plot.ly"
       },
       "data": [
        {
         "fill": "toself",
         "name": "de Bundesliga",
         "r": [
          0.5795454545454546,
          0.5995260663507109,
          0.734375,
          0.9252577319587629,
          0.8524590163934427,
          0.8080736543909348,
          0.806997742663657,
          0.7420814479638012
         ],
         "theta": [
          "Crosses_Stp%",
          "Sweeper_#OPA",
          "Sweeper_AvgDist",
          "Rev_Passes_Launch%",
          "Rev_Passes_AvgLen",
          "Rev_Goal Kicks_Launch%",
          "Rev_Goal Kicks_AvgLen",
          "Passes_Att"
         ],
         "type": "scatterpolar"
        },
        {
         "fill": "toself",
         "name": "eng Premier League",
         "r": [
          0.5568181818181818,
          0.5687203791469194,
          0.7986111111111112,
          0.8081328751431845,
          0.766393442622951,
          0.7813975448536356,
          0.7486832204665163,
          0.5505279034690801
         ],
         "theta": [
          "Crosses_Stp%",
          "Sweeper_#OPA",
          "Sweeper_AvgDist",
          "Rev_Passes_Launch%",
          "Rev_Passes_AvgLen",
          "Rev_Goal Kicks_Launch%",
          "Rev_Goal Kicks_AvgLen",
          "Passes_Att"
         ],
         "type": "scatterpolar"
        },
        {
         "fill": "toself",
         "name": "it Serie A",
         "r": [
          0.26136363636363635,
          0.4075829383886256,
          0.7604166666666667,
          0.9673539518900344,
          0.8934426229508199,
          1,
          0.9593679458239278,
          0.19457013574660642
         ],
         "theta": [
          "Crosses_Stp%",
          "Sweeper_#OPA",
          "Sweeper_AvgDist",
          "Rev_Passes_Launch%",
          "Rev_Passes_AvgLen",
          "Rev_Goal Kicks_Launch%",
          "Rev_Goal Kicks_AvgLen",
          "Passes_Att"
         ],
         "type": "scatterpolar"
        },
        {
         "fill": "toself",
         "name": "fr Ligue 1",
         "r": [
          0.6647727272727273,
          0.3554502369668246,
          0.45833333333333337,
          0.8934707903780069,
          0.8463114754098361,
          0.7386685552407932,
          0.7979683972911964,
          0.2850678733031675
         ],
         "theta": [
          "Crosses_Stp%",
          "Sweeper_#OPA",
          "Sweeper_AvgDist",
          "Rev_Passes_Launch%",
          "Rev_Passes_AvgLen",
          "Rev_Goal Kicks_Launch%",
          "Rev_Goal Kicks_AvgLen",
          "Passes_Att"
         ],
         "type": "scatterpolar"
        },
        {
         "fill": "toself",
         "name": "es La Liga",
         "r": [
          0.6534090909090909,
          0.45023696682464454,
          0.5729166666666665,
          0.8625429553264605,
          0.7930327868852459,
          0.8505665722379603,
          0.7957110609480813,
          0.6402714932126697
         ],
         "theta": [
          "Crosses_Stp%",
          "Sweeper_#OPA",
          "Sweeper_AvgDist",
          "Rev_Passes_Launch%",
          "Rev_Passes_AvgLen",
          "Rev_Goal Kicks_Launch%",
          "Rev_Goal Kicks_AvgLen",
          "Passes_Att"
         ],
         "type": "scatterpolar"
        },
        {
         "fill": "toself",
         "name": "David de Gea",
         "r": [
          0.21590909090909088,
          0.29383886255924174,
          0.5,
          0.6804123711340206,
          0.6721311475409837,
          0.36402266288951834,
          0.4808126410835215,
          0.42533936651583737
         ],
         "theta": [
          "Crosses_Stp%",
          "Sweeper_#OPA",
          "Sweeper_AvgDist",
          "Rev_Passes_Launch%",
          "Rev_Passes_AvgLen",
          "Rev_Goal Kicks_Launch%",
          "Rev_Goal Kicks_AvgLen",
          "Passes_Att"
         ],
         "type": "scatterpolar"
        }
       ],
       "layout": {
        "height": 600,
        "polar": {
         "radialaxis": {
          "range": [
           0,
           1
          ],
          "showticklabels": false,
          "visible": true
         }
        },
        "showlegend": true,
        "template": {
         "data": {
          "bar": [
           {
            "error_x": {
             "color": "#2a3f5f"
            },
            "error_y": {
             "color": "#2a3f5f"
            },
            "marker": {
             "line": {
              "color": "#E5ECF6",
              "width": 0.5
             },
             "pattern": {
              "fillmode": "overlay",
              "size": 10,
              "solidity": 0.2
             }
            },
            "type": "bar"
           }
          ],
          "barpolar": [
           {
            "marker": {
             "line": {
              "color": "#E5ECF6",
              "width": 0.5
             },
             "pattern": {
              "fillmode": "overlay",
              "size": 10,
              "solidity": 0.2
             }
            },
            "type": "barpolar"
           }
          ],
          "carpet": [
           {
            "aaxis": {
             "endlinecolor": "#2a3f5f",
             "gridcolor": "white",
             "linecolor": "white",
             "minorgridcolor": "white",
             "startlinecolor": "#2a3f5f"
            },
            "baxis": {
             "endlinecolor": "#2a3f5f",
             "gridcolor": "white",
             "linecolor": "white",
             "minorgridcolor": "white",
             "startlinecolor": "#2a3f5f"
            },
            "type": "carpet"
           }
          ],
          "choropleth": [
           {
            "colorbar": {
             "outlinewidth": 0,
             "ticks": ""
            },
            "type": "choropleth"
           }
          ],
          "contour": [
           {
            "colorbar": {
             "outlinewidth": 0,
             "ticks": ""
            },
            "colorscale": [
             [
              0,
              "#0d0887"
             ],
             [
              0.1111111111111111,
              "#46039f"
             ],
             [
              0.2222222222222222,
              "#7201a8"
             ],
             [
              0.3333333333333333,
              "#9c179e"
             ],
             [
              0.4444444444444444,
              "#bd3786"
             ],
             [
              0.5555555555555556,
              "#d8576b"
             ],
             [
              0.6666666666666666,
              "#ed7953"
             ],
             [
              0.7777777777777778,
              "#fb9f3a"
             ],
             [
              0.8888888888888888,
              "#fdca26"
             ],
             [
              1,
              "#f0f921"
             ]
            ],
            "type": "contour"
           }
          ],
          "contourcarpet": [
           {
            "colorbar": {
             "outlinewidth": 0,
             "ticks": ""
            },
            "type": "contourcarpet"
           }
          ],
          "heatmap": [
           {
            "colorbar": {
             "outlinewidth": 0,
             "ticks": ""
            },
            "colorscale": [
             [
              0,
              "#0d0887"
             ],
             [
              0.1111111111111111,
              "#46039f"
             ],
             [
              0.2222222222222222,
              "#7201a8"
             ],
             [
              0.3333333333333333,
              "#9c179e"
             ],
             [
              0.4444444444444444,
              "#bd3786"
             ],
             [
              0.5555555555555556,
              "#d8576b"
             ],
             [
              0.6666666666666666,
              "#ed7953"
             ],
             [
              0.7777777777777778,
              "#fb9f3a"
             ],
             [
              0.8888888888888888,
              "#fdca26"
             ],
             [
              1,
              "#f0f921"
             ]
            ],
            "type": "heatmap"
           }
          ],
          "heatmapgl": [
           {
            "colorbar": {
             "outlinewidth": 0,
             "ticks": ""
            },
            "colorscale": [
             [
              0,
              "#0d0887"
             ],
             [
              0.1111111111111111,
              "#46039f"
             ],
             [
              0.2222222222222222,
              "#7201a8"
             ],
             [
              0.3333333333333333,
              "#9c179e"
             ],
             [
              0.4444444444444444,
              "#bd3786"
             ],
             [
              0.5555555555555556,
              "#d8576b"
             ],
             [
              0.6666666666666666,
              "#ed7953"
             ],
             [
              0.7777777777777778,
              "#fb9f3a"
             ],
             [
              0.8888888888888888,
              "#fdca26"
             ],
             [
              1,
              "#f0f921"
             ]
            ],
            "type": "heatmapgl"
           }
          ],
          "histogram": [
           {
            "marker": {
             "pattern": {
              "fillmode": "overlay",
              "size": 10,
              "solidity": 0.2
             }
            },
            "type": "histogram"
           }
          ],
          "histogram2d": [
           {
            "colorbar": {
             "outlinewidth": 0,
             "ticks": ""
            },
            "colorscale": [
             [
              0,
              "#0d0887"
             ],
             [
              0.1111111111111111,
              "#46039f"
             ],
             [
              0.2222222222222222,
              "#7201a8"
             ],
             [
              0.3333333333333333,
              "#9c179e"
             ],
             [
              0.4444444444444444,
              "#bd3786"
             ],
             [
              0.5555555555555556,
              "#d8576b"
             ],
             [
              0.6666666666666666,
              "#ed7953"
             ],
             [
              0.7777777777777778,
              "#fb9f3a"
             ],
             [
              0.8888888888888888,
              "#fdca26"
             ],
             [
              1,
              "#f0f921"
             ]
            ],
            "type": "histogram2d"
           }
          ],
          "histogram2dcontour": [
           {
            "colorbar": {
             "outlinewidth": 0,
             "ticks": ""
            },
            "colorscale": [
             [
              0,
              "#0d0887"
             ],
             [
              0.1111111111111111,
              "#46039f"
             ],
             [
              0.2222222222222222,
              "#7201a8"
             ],
             [
              0.3333333333333333,
              "#9c179e"
             ],
             [
              0.4444444444444444,
              "#bd3786"
             ],
             [
              0.5555555555555556,
              "#d8576b"
             ],
             [
              0.6666666666666666,
              "#ed7953"
             ],
             [
              0.7777777777777778,
              "#fb9f3a"
             ],
             [
              0.8888888888888888,
              "#fdca26"
             ],
             [
              1,
              "#f0f921"
             ]
            ],
            "type": "histogram2dcontour"
           }
          ],
          "mesh3d": [
           {
            "colorbar": {
             "outlinewidth": 0,
             "ticks": ""
            },
            "type": "mesh3d"
           }
          ],
          "parcoords": [
           {
            "line": {
             "colorbar": {
              "outlinewidth": 0,
              "ticks": ""
             }
            },
            "type": "parcoords"
           }
          ],
          "pie": [
           {
            "automargin": true,
            "type": "pie"
           }
          ],
          "scatter": [
           {
            "fillpattern": {
             "fillmode": "overlay",
             "size": 10,
             "solidity": 0.2
            },
            "type": "scatter"
           }
          ],
          "scatter3d": [
           {
            "line": {
             "colorbar": {
              "outlinewidth": 0,
              "ticks": ""
             }
            },
            "marker": {
             "colorbar": {
              "outlinewidth": 0,
              "ticks": ""
             }
            },
            "type": "scatter3d"
           }
          ],
          "scattercarpet": [
           {
            "marker": {
             "colorbar": {
              "outlinewidth": 0,
              "ticks": ""
             }
            },
            "type": "scattercarpet"
           }
          ],
          "scattergeo": [
           {
            "marker": {
             "colorbar": {
              "outlinewidth": 0,
              "ticks": ""
             }
            },
            "type": "scattergeo"
           }
          ],
          "scattergl": [
           {
            "marker": {
             "colorbar": {
              "outlinewidth": 0,
              "ticks": ""
             }
            },
            "type": "scattergl"
           }
          ],
          "scattermapbox": [
           {
            "marker": {
             "colorbar": {
              "outlinewidth": 0,
              "ticks": ""
             }
            },
            "type": "scattermapbox"
           }
          ],
          "scatterpolar": [
           {
            "marker": {
             "colorbar": {
              "outlinewidth": 0,
              "ticks": ""
             }
            },
            "type": "scatterpolar"
           }
          ],
          "scatterpolargl": [
           {
            "marker": {
             "colorbar": {
              "outlinewidth": 0,
              "ticks": ""
             }
            },
            "type": "scatterpolargl"
           }
          ],
          "scatterternary": [
           {
            "marker": {
             "colorbar": {
              "outlinewidth": 0,
              "ticks": ""
             }
            },
            "type": "scatterternary"
           }
          ],
          "surface": [
           {
            "colorbar": {
             "outlinewidth": 0,
             "ticks": ""
            },
            "colorscale": [
             [
              0,
              "#0d0887"
             ],
             [
              0.1111111111111111,
              "#46039f"
             ],
             [
              0.2222222222222222,
              "#7201a8"
             ],
             [
              0.3333333333333333,
              "#9c179e"
             ],
             [
              0.4444444444444444,
              "#bd3786"
             ],
             [
              0.5555555555555556,
              "#d8576b"
             ],
             [
              0.6666666666666666,
              "#ed7953"
             ],
             [
              0.7777777777777778,
              "#fb9f3a"
             ],
             [
              0.8888888888888888,
              "#fdca26"
             ],
             [
              1,
              "#f0f921"
             ]
            ],
            "type": "surface"
           }
          ],
          "table": [
           {
            "cells": {
             "fill": {
              "color": "#EBF0F8"
             },
             "line": {
              "color": "white"
             }
            },
            "header": {
             "fill": {
              "color": "#C8D4E3"
             },
             "line": {
              "color": "white"
             }
            },
            "type": "table"
           }
          ]
         },
         "layout": {
          "annotationdefaults": {
           "arrowcolor": "#2a3f5f",
           "arrowhead": 0,
           "arrowwidth": 1
          },
          "autotypenumbers": "strict",
          "coloraxis": {
           "colorbar": {
            "outlinewidth": 0,
            "ticks": ""
           }
          },
          "colorscale": {
           "diverging": [
            [
             0,
             "#8e0152"
            ],
            [
             0.1,
             "#c51b7d"
            ],
            [
             0.2,
             "#de77ae"
            ],
            [
             0.3,
             "#f1b6da"
            ],
            [
             0.4,
             "#fde0ef"
            ],
            [
             0.5,
             "#f7f7f7"
            ],
            [
             0.6,
             "#e6f5d0"
            ],
            [
             0.7,
             "#b8e186"
            ],
            [
             0.8,
             "#7fbc41"
            ],
            [
             0.9,
             "#4d9221"
            ],
            [
             1,
             "#276419"
            ]
           ],
           "sequential": [
            [
             0,
             "#0d0887"
            ],
            [
             0.1111111111111111,
             "#46039f"
            ],
            [
             0.2222222222222222,
             "#7201a8"
            ],
            [
             0.3333333333333333,
             "#9c179e"
            ],
            [
             0.4444444444444444,
             "#bd3786"
            ],
            [
             0.5555555555555556,
             "#d8576b"
            ],
            [
             0.6666666666666666,
             "#ed7953"
            ],
            [
             0.7777777777777778,
             "#fb9f3a"
            ],
            [
             0.8888888888888888,
             "#fdca26"
            ],
            [
             1,
             "#f0f921"
            ]
           ],
           "sequentialminus": [
            [
             0,
             "#0d0887"
            ],
            [
             0.1111111111111111,
             "#46039f"
            ],
            [
             0.2222222222222222,
             "#7201a8"
            ],
            [
             0.3333333333333333,
             "#9c179e"
            ],
            [
             0.4444444444444444,
             "#bd3786"
            ],
            [
             0.5555555555555556,
             "#d8576b"
            ],
            [
             0.6666666666666666,
             "#ed7953"
            ],
            [
             0.7777777777777778,
             "#fb9f3a"
            ],
            [
             0.8888888888888888,
             "#fdca26"
            ],
            [
             1,
             "#f0f921"
            ]
           ]
          },
          "colorway": [
           "#636efa",
           "#EF553B",
           "#00cc96",
           "#ab63fa",
           "#FFA15A",
           "#19d3f3",
           "#FF6692",
           "#B6E880",
           "#FF97FF",
           "#FECB52"
          ],
          "font": {
           "color": "#2a3f5f"
          },
          "geo": {
           "bgcolor": "white",
           "lakecolor": "white",
           "landcolor": "#E5ECF6",
           "showlakes": true,
           "showland": true,
           "subunitcolor": "white"
          },
          "hoverlabel": {
           "align": "left"
          },
          "hovermode": "closest",
          "mapbox": {
           "style": "light"
          },
          "paper_bgcolor": "white",
          "plot_bgcolor": "#E5ECF6",
          "polar": {
           "angularaxis": {
            "gridcolor": "white",
            "linecolor": "white",
            "ticks": ""
           },
           "bgcolor": "#E5ECF6",
           "radialaxis": {
            "gridcolor": "white",
            "linecolor": "white",
            "ticks": ""
           }
          },
          "scene": {
           "xaxis": {
            "backgroundcolor": "#E5ECF6",
            "gridcolor": "white",
            "gridwidth": 2,
            "linecolor": "white",
            "showbackground": true,
            "ticks": "",
            "zerolinecolor": "white"
           },
           "yaxis": {
            "backgroundcolor": "#E5ECF6",
            "gridcolor": "white",
            "gridwidth": 2,
            "linecolor": "white",
            "showbackground": true,
            "ticks": "",
            "zerolinecolor": "white"
           },
           "zaxis": {
            "backgroundcolor": "#E5ECF6",
            "gridcolor": "white",
            "gridwidth": 2,
            "linecolor": "white",
            "showbackground": true,
            "ticks": "",
            "zerolinecolor": "white"
           }
          },
          "shapedefaults": {
           "line": {
            "color": "#2a3f5f"
           }
          },
          "ternary": {
           "aaxis": {
            "gridcolor": "white",
            "linecolor": "white",
            "ticks": ""
           },
           "baxis": {
            "gridcolor": "white",
            "linecolor": "white",
            "ticks": ""
           },
           "bgcolor": "#E5ECF6",
           "caxis": {
            "gridcolor": "white",
            "linecolor": "white",
            "ticks": ""
           }
          },
          "title": {
           "x": 0.05
          },
          "xaxis": {
           "automargin": true,
           "gridcolor": "white",
           "linecolor": "white",
           "ticks": "",
           "title": {
            "standoff": 15
           },
           "zerolinecolor": "white",
           "zerolinewidth": 2
          },
          "yaxis": {
           "automargin": true,
           "gridcolor": "white",
           "linecolor": "white",
           "ticks": "",
           "title": {
            "standoff": 15
           },
           "zerolinecolor": "white",
           "zerolinewidth": 2
          }
         }
        },
        "title": {
         "text": "Avg Profile by League (Top 2)",
         "x": 0.5
        },
        "width": 800
       }
      }
     },
     "metadata": {},
     "output_type": "display_data"
    }
   ],
   "source": [
    "fig = utils.plot_radar(player_dict=t2_league_dict, categories=final_metrics, title='Avg Profile by League (Top 2)', value='Statistics')"
   ]
  },
  {
   "cell_type": "code",
   "execution_count": 24,
   "metadata": {},
   "outputs": [],
   "source": [
    "# player_ls = df.loc[df.Squad.isin(['Arsenal','Liverpool','Manchester City','Barcelona','Real Madrid','Bayern Munich','Dortmund','Napoli','Lazio','Paris S-G','Marseille'])].Player.unique().tolist()\n",
    "# player_dict = {player: utils.generate_stats(df_ms, player, final_metrics) for player in player_ls}"
   ]
  },
  {
   "cell_type": "markdown",
   "metadata": {},
   "source": [
    "## PCA"
   ]
  },
  {
   "cell_type": "code",
   "execution_count": 25,
   "metadata": {},
   "outputs": [],
   "source": [
    "X = df_ms[final_metrics]"
   ]
  },
  {
   "cell_type": "code",
   "execution_count": 26,
   "metadata": {},
   "outputs": [],
   "source": [
    "from sklearn.decomposition import PCA\n",
    "\n",
    "pca = PCA()\n",
    "pca.fit(X)\n",
    "cumsum = np.cumsum(pca.explained_variance_ratio_)\n",
    "d = np.argmax(cumsum >= 0.95) + 1"
   ]
  },
  {
   "cell_type": "code",
   "execution_count": 27,
   "metadata": {},
   "outputs": [
    {
     "data": {
      "image/png": "[encoded data removed]",
      "text/plain": [
       "<Figure size 600x400 with 1 Axes>"
      ]
     },
     "metadata": {},
     "output_type": "display_data"
    }
   ],
   "source": [
    "plt.figure(figsize=(6,4))\n",
    "plt.plot([x+1 for x in range(X.shape[1])], cumsum, linewidth=1)\n",
    "plt.xlabel(\"Dimensions\")\n",
    "plt.ylabel(\"Explained Variance\")\n",
    "plt.grid(True)\n",
    "plt.show()"
   ]
  },
  {
   "cell_type": "code",
   "execution_count": 28,
   "metadata": {},
   "outputs": [],
   "source": [
    "t2 = np.where(df_ms.Player.isin(t2_gks),1,0)\n"
   ]
  },
  {
   "cell_type": "code",
   "execution_count": 29,
   "metadata": {},
   "outputs": [
    {
     "data": {
      "text/plain": [
       "<matplotlib.collections.PathCollection at 0x1e2ca7ca740>"
      ]
     },
     "execution_count": 29,
     "metadata": {},
     "output_type": "execute_result"
    },
    {
     "data": {
      "image/png": "[encoded data removed]",
      "text/plain": [
       "<Figure size 640x480 with 1 Axes>"
      ]
     },
     "metadata": {},
     "output_type": "display_data"
    }
   ],
   "source": [
    "plt.scatter(X.dot(pca.components_[0]), X.dot(pca.components_[1]), alpha=1, label='samples', c = t2, cmap='viridis')"
   ]
  },
  {
   "cell_type": "code",
   "execution_count": 30,
   "metadata": {},
   "outputs": [
    {
     "data": {
      "text/plain": [
       "<matplotlib.collections.PathCollection at 0x1e2cc866da0>"
      ]
     },
     "execution_count": 30,
     "metadata": {},
     "output_type": "execute_result"
    },
    {
     "data": {
      "image/png": "[encoded data removed]",
      "text/plain": [
       "<Figure size 640x480 with 1 Axes>"
      ]
     },
     "metadata": {},
     "output_type": "display_data"
    }
   ],
   "source": [
    "plt.scatter(X.dot(pca.components_[0]), X.dot(pca.components_[2]), alpha=1, label='samples', c = t2, cmap='viridis')"
   ]
  },
  {
   "cell_type": "code",
   "execution_count": 31,
   "metadata": {},
   "outputs": [],
   "source": [
    "from mpl_toolkits import mplot3d"
   ]
  },
  {
   "cell_type": "code",
   "execution_count": 32,
   "metadata": {},
   "outputs": [
    {
     "data": {
      "text/plain": [
       "<mpl_toolkits.mplot3d.art3d.Path3DCollection at 0x1e2c8413fa0>"
      ]
     },
     "execution_count": 32,
     "metadata": {},
     "output_type": "execute_result"
    },
    {
     "data": {
      "image/png": "[encoded data removed]",
      "text/plain": [
       "<Figure size 640x480 with 1 Axes>"
      ]
     },
     "metadata": {},
     "output_type": "display_data"
    }
   ],
   "source": [
    "fig = plt.figure()\n",
    "ax = plt.axes(projection='3d')\n",
    "ax.scatter3D(X.dot(pca.components_[0]), X.dot(pca.components_[1]), X.dot(pca.components_[2]), c=t2, cmap='viridis')"
   ]
  },
  {
   "cell_type": "markdown",
   "metadata": {},
   "source": [
    "## K Means"
   ]
  },
  {
   "cell_type": "code",
   "execution_count": 33,
   "metadata": {},
   "outputs": [
    {
     "data": {
      "text/plain": [
       "Text(0, 0.5, 'Inertia')"
      ]
     },
     "execution_count": 33,
     "metadata": {},
     "output_type": "execute_result"
    },
    {
     "data": {
      "image/png": "[encoded data removed]",
      "text/plain": [
       "<Figure size 600x400 with 1 Axes>"
      ]
     },
     "metadata": {},
     "output_type": "display_data"
    }
   ],
   "source": [
    "from sklearn.cluster import KMeans  \n",
    "\n",
    "kmodels = [KMeans(n_clusters=k, random_state=42,n_init='auto').fit(X) for k in range(1, 10)]\n",
    "inertias = [model.inertia_ for model in kmodels]\n",
    "\n",
    "plt.figure(figsize=(6,4))\n",
    "plt.plot(range(1, 10), inertias, \"bo-\")\n",
    "plt.xlabel(\"$k$\", fontsize=14)\n",
    "plt.ylabel(\"Inertia\", fontsize=14)"
   ]
  },
  {
   "cell_type": "code",
   "execution_count": 34,
   "metadata": {},
   "outputs": [],
   "source": [
    "from sklearn.metrics import silhouette_samples\n",
    "from sklearn.metrics import silhouette_score\n",
    "\n",
    "\n",
    "ss = [silhouette_score(X, model.labels_) for model in kmodels[1:]]"
   ]
  },
  {
   "cell_type": "code",
   "execution_count": 35,
   "metadata": {},
   "outputs": [
    {
     "data": {
      "text/plain": [
       "Text(0, 0.5, 'Silhouette score')"
      ]
     },
     "execution_count": 35,
     "metadata": {},
     "output_type": "execute_result"
    },
    {
     "data": {
      "image/png": "[encoded data removed]",
      "text/plain": [
       "<Figure size 600x400 with 1 Axes>"
      ]
     },
     "metadata": {},
     "output_type": "display_data"
    }
   ],
   "source": [
    "plt.figure(figsize=(6, 4))\n",
    "plt.plot(range(2, 10), ss, \"bo-\")\n",
    "plt.xlabel(\"$k$\", fontsize=14)\n",
    "plt.ylabel(\"Silhouette score\", fontsize=14)"
   ]
  },
  {
   "cell_type": "code",
   "execution_count": 37,
   "metadata": {},
   "outputs": [
    {
     "data": {
      "image/png": "[encoded data removed]",
      "text/plain": [
       "<Figure size 1100x900 with 4 Axes>"
      ]
     },
     "metadata": {},
     "output_type": "display_data"
    }
   ],
   "source": [
    "utils.silhouette_coefficients(X, kmodels, (2, 3, 4, 5), ss, figsize=(11, 9))"
   ]
  },
  {
   "cell_type": "markdown",
   "metadata": {},
   "source": [
    "## Creating Clusters"
   ]
  },
  {
   "cell_type": "code",
   "execution_count": 41,
   "metadata": {},
   "outputs": [],
   "source": [
    "model = KMeans(n_clusters=4, random_state=42,n_init='auto').fit(X)"
   ]
  },
  {
   "cell_type": "code",
   "execution_count": 42,
   "metadata": {},
   "outputs": [],
   "source": [
    "df_ms['Cluster'] = model.predict(X)"
   ]
  },
  {
   "cell_type": "code",
   "execution_count": 44,
   "metadata": {},
   "outputs": [
    {
     "data": {
      "text/plain": [
       "<AxesSubplot: xlabel='PCA1', ylabel='PCA2'>"
      ]
     },
     "execution_count": 44,
     "metadata": {},
     "output_type": "execute_result"
    },
    {
     "data": {
      "image/png": "[encoded data removed]",
      "text/plain": [
       "<Figure size 640x480 with 1 Axes>"
      ]
     },
     "metadata": {},
     "output_type": "display_data"
    }
   ],
   "source": [
    "X =df_ms[final_metrics]\n",
    "pca = PCA()\n",
    "pca.fit(X)\n",
    "X_pca = X.copy()\n",
    "X_pca['PCA1'] = X.dot(pca.components_[0])\n",
    "X_pca['PCA2'] = X.dot(pca.components_[1])\n",
    "X_pca['Cluster'] = model.predict(X)\n",
    "\n",
    "sns.scatterplot(data=X_pca, x=\"PCA1\", y=\"PCA2\", hue=X_pca['Cluster'], alpha=1, palette='viridis')\n"
   ]
  },
  {
   "cell_type": "code",
   "execution_count": 45,
   "metadata": {},
   "outputs": [
    {
     "data": {
      "text/html": [
       "<div>\n",
       "<style scoped>\n",
       "    .dataframe tbody tr th:only-of-type {\n",
       "        vertical-align: middle;\n",
       "    }\n",
       "\n",
       "    .dataframe tbody tr th {\n",
       "        vertical-align: top;\n",
       "    }\n",
       "\n",
       "    .dataframe thead th {\n",
       "        text-align: right;\n",
       "    }\n",
       "</style>\n",
       "<table border=\"1\" class=\"dataframe\">\n",
       "  <thead>\n",
       "    <tr style=\"text-align: right;\">\n",
       "      <th></th>\n",
       "      <th>Cluster</th>\n",
       "      <th>Crosses_Stp%</th>\n",
       "      <th>Sweeper_#OPA</th>\n",
       "      <th>Sweeper_AvgDist</th>\n",
       "      <th>Rev_Passes_Launch%</th>\n",
       "      <th>Rev_Passes_AvgLen</th>\n",
       "      <th>Rev_Goal Kicks_Launch%</th>\n",
       "      <th>Rev_Goal Kicks_AvgLen</th>\n",
       "      <th>Passes_Att</th>\n",
       "    </tr>\n",
       "  </thead>\n",
       "  <tbody>\n",
       "    <tr>\n",
       "      <th>0</th>\n",
       "      <td>0</td>\n",
       "      <td>0.416958</td>\n",
       "      <td>0.327743</td>\n",
       "      <td>0.385417</td>\n",
       "      <td>0.317076</td>\n",
       "      <td>0.292560</td>\n",
       "      <td>0.272390</td>\n",
       "      <td>0.401980</td>\n",
       "      <td>0.343891</td>\n",
       "    </tr>\n",
       "    <tr>\n",
       "      <th>1</th>\n",
       "      <td>1</td>\n",
       "      <td>0.573295</td>\n",
       "      <td>0.554739</td>\n",
       "      <td>0.700000</td>\n",
       "      <td>0.821220</td>\n",
       "      <td>0.766598</td>\n",
       "      <td>0.814235</td>\n",
       "      <td>0.806321</td>\n",
       "      <td>0.638009</td>\n",
       "    </tr>\n",
       "    <tr>\n",
       "      <th>2</th>\n",
       "      <td>2</td>\n",
       "      <td>0.581650</td>\n",
       "      <td>0.646832</td>\n",
       "      <td>0.719907</td>\n",
       "      <td>0.512282</td>\n",
       "      <td>0.483607</td>\n",
       "      <td>0.391250</td>\n",
       "      <td>0.464175</td>\n",
       "      <td>0.502598</td>\n",
       "    </tr>\n",
       "    <tr>\n",
       "      <th>3</th>\n",
       "      <td>3</td>\n",
       "      <td>0.528409</td>\n",
       "      <td>0.241207</td>\n",
       "      <td>0.311404</td>\n",
       "      <td>0.664994</td>\n",
       "      <td>0.628128</td>\n",
       "      <td>0.630983</td>\n",
       "      <td>0.686408</td>\n",
       "      <td>0.367111</td>\n",
       "    </tr>\n",
       "  </tbody>\n",
       "</table>\n",
       "</div>"
      ],
      "text/plain": [
       "   Cluster  Crosses_Stp%  Sweeper_#OPA  Sweeper_AvgDist  Rev_Passes_Launch%  \\\n",
       "0        0      0.416958      0.327743         0.385417            0.317076   \n",
       "1        1      0.573295      0.554739         0.700000            0.821220   \n",
       "2        2      0.581650      0.646832         0.719907            0.512282   \n",
       "3        3      0.528409      0.241207         0.311404            0.664994   \n",
       "\n",
       "   Rev_Passes_AvgLen  Rev_Goal Kicks_Launch%  Rev_Goal Kicks_AvgLen  \\\n",
       "0           0.292560                0.272390               0.401980   \n",
       "1           0.766598                0.814235               0.806321   \n",
       "2           0.483607                0.391250               0.464175   \n",
       "3           0.628128                0.630983               0.686408   \n",
       "\n",
       "   Passes_Att  \n",
       "0    0.343891  \n",
       "1    0.638009  \n",
       "2    0.502598  \n",
       "3    0.367111  "
      ]
     },
     "execution_count": 45,
     "metadata": {},
     "output_type": "execute_result"
    }
   ],
   "source": [
    "agg = df_ms.groupby(['Cluster']).mean().reset_index()\n",
    "agg"
   ]
  },
  {
   "cell_type": "code",
   "execution_count": 46,
   "metadata": {},
   "outputs": [],
   "source": [
    "cluster_dict={}\n",
    "for c in agg.Cluster.unique():\n",
    "    df_temp = agg.loc[agg.Cluster==c][final_metrics].transpose()\n",
    "    df_temp.columns=['Statistics']\n",
    "    cluster_dict.update({str(c):df_temp})\n",
    "# league_dict.update({'David de Gea':utils.generate_stats(df_ms, 'David de Gea', final_metrics)})"
   ]
  },
  {
   "cell_type": "code",
   "execution_count": 47,
   "metadata": {},
   "outputs": [
    {
     "data": {
      "application/vnd.plotly.v1+json": {
       "config": {
        "plotlyServerURL": "https://plot.ly"
       },
       "data": [
        {
         "fill": "toself",
         "name": "0",
         "r": [
          0.4169580419580419,
          0.32774334670069266,
          0.3854166666666667,
          0.3170763943959821,
          0.2925598991172762,
          0.27239049901939405,
          0.4019795103316548,
          0.3438914027149322
         ],
         "theta": [
          "Crosses_Stp%",
          "Sweeper_#OPA",
          "Sweeper_AvgDist",
          "Rev_Passes_Launch%",
          "Rev_Passes_AvgLen",
          "Rev_Goal Kicks_Launch%",
          "Rev_Goal Kicks_AvgLen",
          "Passes_Att"
         ],
         "type": "scatterpolar"
        },
        {
         "fill": "toself",
         "name": "1",
         "r": [
          0.5732954545454545,
          0.554739336492891,
          0.7,
          0.8212199312714776,
          0.7665983606557377,
          0.8142351274787535,
          0.8063205417607223,
          0.6380090497737558
         ],
         "theta": [
          "Crosses_Stp%",
          "Sweeper_#OPA",
          "Sweeper_AvgDist",
          "Rev_Passes_Launch%",
          "Rev_Passes_AvgLen",
          "Rev_Goal Kicks_Launch%",
          "Rev_Goal Kicks_AvgLen",
          "Passes_Att"
         ],
         "type": "scatterpolar"
        },
        {
         "fill": "toself",
         "name": "2",
         "r": [
          0.5816498316498316,
          0.6468316657890116,
          0.7199074074074074,
          0.5122820414916636,
          0.4836065573770493,
          0.3912496065470569,
          0.46417523618426554,
          0.5025976202446791
         ],
         "theta": [
          "Crosses_Stp%",
          "Sweeper_#OPA",
          "Sweeper_AvgDist",
          "Rev_Passes_Launch%",
          "Rev_Passes_AvgLen",
          "Rev_Goal Kicks_Launch%",
          "Rev_Goal Kicks_AvgLen",
          "Passes_Att"
         ],
         "type": "scatterpolar"
        },
        {
         "fill": "toself",
         "name": "3",
         "r": [
          0.5284090909090908,
          0.2412072836118733,
          0.3114035087719299,
          0.6649936697413638,
          0.6281276962899052,
          0.6309825555389891,
          0.686408459070928,
          0.3671112169564183
         ],
         "theta": [
          "Crosses_Stp%",
          "Sweeper_#OPA",
          "Sweeper_AvgDist",
          "Rev_Passes_Launch%",
          "Rev_Passes_AvgLen",
          "Rev_Goal Kicks_Launch%",
          "Rev_Goal Kicks_AvgLen",
          "Passes_Att"
         ],
         "type": "scatterpolar"
        }
       ],
       "layout": {
        "height": 600,
        "polar": {
         "radialaxis": {
          "range": [
           0,
           1
          ],
          "showticklabels": false,
          "visible": true
         }
        },
        "showlegend": true,
        "template": {
         "data": {
          "bar": [
           {
            "error_x": {
             "color": "#2a3f5f"
            },
            "error_y": {
             "color": "#2a3f5f"
            },
            "marker": {
             "line": {
              "color": "#E5ECF6",
              "width": 0.5
             },
             "pattern": {
              "fillmode": "overlay",
              "size": 10,
              "solidity": 0.2
             }
            },
            "type": "bar"
           }
          ],
          "barpolar": [
           {
            "marker": {
             "line": {
              "color": "#E5ECF6",
              "width": 0.5
             },
             "pattern": {
              "fillmode": "overlay",
              "size": 10,
              "solidity": 0.2
             }
            },
            "type": "barpolar"
           }
          ],
          "carpet": [
           {
            "aaxis": {
             "endlinecolor": "#2a3f5f",
             "gridcolor": "white",
             "linecolor": "white",
             "minorgridcolor": "white",
             "startlinecolor": "#2a3f5f"
            },
            "baxis": {
             "endlinecolor": "#2a3f5f",
             "gridcolor": "white",
             "linecolor": "white",
             "minorgridcolor": "white",
             "startlinecolor": "#2a3f5f"
            },
            "type": "carpet"
           }
          ],
          "choropleth": [
           {
            "colorbar": {
             "outlinewidth": 0,
             "ticks": ""
            },
            "type": "choropleth"
           }
          ],
          "contour": [
           {
            "colorbar": {
             "outlinewidth": 0,
             "ticks": ""
            },
            "colorscale": [
             [
              0,
              "#0d0887"
             ],
             [
              0.1111111111111111,
              "#46039f"
             ],
             [
              0.2222222222222222,
              "#7201a8"
             ],
             [
              0.3333333333333333,
              "#9c179e"
             ],
             [
              0.4444444444444444,
              "#bd3786"
             ],
             [
              0.5555555555555556,
              "#d8576b"
             ],
             [
              0.6666666666666666,
              "#ed7953"
             ],
             [
              0.7777777777777778,
              "#fb9f3a"
             ],
             [
              0.8888888888888888,
              "#fdca26"
             ],
             [
              1,
              "#f0f921"
             ]
            ],
            "type": "contour"
           }
          ],
          "contourcarpet": [
           {
            "colorbar": {
             "outlinewidth": 0,
             "ticks": ""
            },
            "type": "contourcarpet"
           }
          ],
          "heatmap": [
           {
            "colorbar": {
             "outlinewidth": 0,
             "ticks": ""
            },
            "colorscale": [
             [
              0,
              "#0d0887"
             ],
             [
              0.1111111111111111,
              "#46039f"
             ],
             [
              0.2222222222222222,
              "#7201a8"
             ],
             [
              0.3333333333333333,
              "#9c179e"
             ],
             [
              0.4444444444444444,
              "#bd3786"
             ],
             [
              0.5555555555555556,
              "#d8576b"
             ],
             [
              0.6666666666666666,
              "#ed7953"
             ],
             [
              0.7777777777777778,
              "#fb9f3a"
             ],
             [
              0.8888888888888888,
              "#fdca26"
             ],
             [
              1,
              "#f0f921"
             ]
            ],
            "type": "heatmap"
           }
          ],
          "heatmapgl": [
           {
            "colorbar": {
             "outlinewidth": 0,
             "ticks": ""
            },
            "colorscale": [
             [
              0,
              "#0d0887"
             ],
             [
              0.1111111111111111,
              "#46039f"
             ],
             [
              0.2222222222222222,
              "#7201a8"
             ],
             [
              0.3333333333333333,
              "#9c179e"
             ],
             [
              0.4444444444444444,
              "#bd3786"
             ],
             [
              0.5555555555555556,
              "#d8576b"
             ],
             [
              0.6666666666666666,
              "#ed7953"
             ],
             [
              0.7777777777777778,
              "#fb9f3a"
             ],
             [
              0.8888888888888888,
              "#fdca26"
             ],
             [
              1,
              "#f0f921"
             ]
            ],
            "type": "heatmapgl"
           }
          ],
          "histogram": [
           {
            "marker": {
             "pattern": {
              "fillmode": "overlay",
              "size": 10,
              "solidity": 0.2
             }
            },
            "type": "histogram"
           }
          ],
          "histogram2d": [
           {
            "colorbar": {
             "outlinewidth": 0,
             "ticks": ""
            },
            "colorscale": [
             [
              0,
              "#0d0887"
             ],
             [
              0.1111111111111111,
              "#46039f"
             ],
             [
              0.2222222222222222,
              "#7201a8"
             ],
             [
              0.3333333333333333,
              "#9c179e"
             ],
             [
              0.4444444444444444,
              "#bd3786"
             ],
             [
              0.5555555555555556,
              "#d8576b"
             ],
             [
              0.6666666666666666,
              "#ed7953"
             ],
             [
              0.7777777777777778,
              "#fb9f3a"
             ],
             [
              0.8888888888888888,
              "#fdca26"
             ],
             [
              1,
              "#f0f921"
             ]
            ],
            "type": "histogram2d"
           }
          ],
          "histogram2dcontour": [
           {
            "colorbar": {
             "outlinewidth": 0,
             "ticks": ""
            },
            "colorscale": [
             [
              0,
              "#0d0887"
             ],
             [
              0.1111111111111111,
              "#46039f"
             ],
             [
              0.2222222222222222,
              "#7201a8"
             ],
             [
              0.3333333333333333,
              "#9c179e"
             ],
             [
              0.4444444444444444,
              "#bd3786"
             ],
             [
              0.5555555555555556,
              "#d8576b"
             ],
             [
              0.6666666666666666,
              "#ed7953"
             ],
             [
              0.7777777777777778,
              "#fb9f3a"
             ],
             [
              0.8888888888888888,
              "#fdca26"
             ],
             [
              1,
              "#f0f921"
             ]
            ],
            "type": "histogram2dcontour"
           }
          ],
          "mesh3d": [
           {
            "colorbar": {
             "outlinewidth": 0,
             "ticks": ""
            },
            "type": "mesh3d"
           }
          ],
          "parcoords": [
           {
            "line": {
             "colorbar": {
              "outlinewidth": 0,
              "ticks": ""
             }
            },
            "type": "parcoords"
           }
          ],
          "pie": [
           {
            "automargin": true,
            "type": "pie"
           }
          ],
          "scatter": [
           {
            "fillpattern": {
             "fillmode": "overlay",
             "size": 10,
             "solidity": 0.2
            },
            "type": "scatter"
           }
          ],
          "scatter3d": [
           {
            "line": {
             "colorbar": {
              "outlinewidth": 0,
              "ticks": ""
             }
            },
            "marker": {
             "colorbar": {
              "outlinewidth": 0,
              "ticks": ""
             }
            },
            "type": "scatter3d"
           }
          ],
          "scattercarpet": [
           {
            "marker": {
             "colorbar": {
              "outlinewidth": 0,
              "ticks": ""
             }
            },
            "type": "scattercarpet"
           }
          ],
          "scattergeo": [
           {
            "marker": {
             "colorbar": {
              "outlinewidth": 0,
              "ticks": ""
             }
            },
            "type": "scattergeo"
           }
          ],
          "scattergl": [
           {
            "marker": {
             "colorbar": {
              "outlinewidth": 0,
              "ticks": ""
             }
            },
            "type": "scattergl"
           }
          ],
          "scattermapbox": [
           {
            "marker": {
             "colorbar": {
              "outlinewidth": 0,
              "ticks": ""
             }
            },
            "type": "scattermapbox"
           }
          ],
          "scatterpolar": [
           {
            "marker": {
             "colorbar": {
              "outlinewidth": 0,
              "ticks": ""
             }
            },
            "type": "scatterpolar"
           }
          ],
          "scatterpolargl": [
           {
            "marker": {
             "colorbar": {
              "outlinewidth": 0,
              "ticks": ""
             }
            },
            "type": "scatterpolargl"
           }
          ],
          "scatterternary": [
           {
            "marker": {
             "colorbar": {
              "outlinewidth": 0,
              "ticks": ""
             }
            },
            "type": "scatterternary"
           }
          ],
          "surface": [
           {
            "colorbar": {
             "outlinewidth": 0,
             "ticks": ""
            },
            "colorscale": [
             [
              0,
              "#0d0887"
             ],
             [
              0.1111111111111111,
              "#46039f"
             ],
             [
              0.2222222222222222,
              "#7201a8"
             ],
             [
              0.3333333333333333,
              "#9c179e"
             ],
             [
              0.4444444444444444,
              "#bd3786"
             ],
             [
              0.5555555555555556,
              "#d8576b"
             ],
             [
              0.6666666666666666,
              "#ed7953"
             ],
             [
              0.7777777777777778,
              "#fb9f3a"
             ],
             [
              0.8888888888888888,
              "#fdca26"
             ],
             [
              1,
              "#f0f921"
             ]
            ],
            "type": "surface"
           }
          ],
          "table": [
           {
            "cells": {
             "fill": {
              "color": "#EBF0F8"
             },
             "line": {
              "color": "white"
             }
            },
            "header": {
             "fill": {
              "color": "#C8D4E3"
             },
             "line": {
              "color": "white"
             }
            },
            "type": "table"
           }
          ]
         },
         "layout": {
          "annotationdefaults": {
           "arrowcolor": "#2a3f5f",
           "arrowhead": 0,
           "arrowwidth": 1
          },
          "autotypenumbers": "strict",
          "coloraxis": {
           "colorbar": {
            "outlinewidth": 0,
            "ticks": ""
           }
          },
          "colorscale": {
           "diverging": [
            [
             0,
             "#8e0152"
            ],
            [
             0.1,
             "#c51b7d"
            ],
            [
             0.2,
             "#de77ae"
            ],
            [
             0.3,
             "#f1b6da"
            ],
            [
             0.4,
             "#fde0ef"
            ],
            [
             0.5,
             "#f7f7f7"
            ],
            [
             0.6,
             "#e6f5d0"
            ],
            [
             0.7,
             "#b8e186"
            ],
            [
             0.8,
             "#7fbc41"
            ],
            [
             0.9,
             "#4d9221"
            ],
            [
             1,
             "#276419"
            ]
           ],
           "sequential": [
            [
             0,
             "#0d0887"
            ],
            [
             0.1111111111111111,
             "#46039f"
            ],
            [
             0.2222222222222222,
             "#7201a8"
            ],
            [
             0.3333333333333333,
             "#9c179e"
            ],
            [
             0.4444444444444444,
             "#bd3786"
            ],
            [
             0.5555555555555556,
             "#d8576b"
            ],
            [
             0.6666666666666666,
             "#ed7953"
            ],
            [
             0.7777777777777778,
             "#fb9f3a"
            ],
            [
             0.8888888888888888,
             "#fdca26"
            ],
            [
             1,
             "#f0f921"
            ]
           ],
           "sequentialminus": [
            [
             0,
             "#0d0887"
            ],
            [
             0.1111111111111111,
             "#46039f"
            ],
            [
             0.2222222222222222,
             "#7201a8"
            ],
            [
             0.3333333333333333,
             "#9c179e"
            ],
            [
             0.4444444444444444,
             "#bd3786"
            ],
            [
             0.5555555555555556,
             "#d8576b"
            ],
            [
             0.6666666666666666,
             "#ed7953"
            ],
            [
             0.7777777777777778,
             "#fb9f3a"
            ],
            [
             0.8888888888888888,
             "#fdca26"
            ],
            [
             1,
             "#f0f921"
            ]
           ]
          },
          "colorway": [
           "#636efa",
           "#EF553B",
           "#00cc96",
           "#ab63fa",
           "#FFA15A",
           "#19d3f3",
           "#FF6692",
           "#B6E880",
           "#FF97FF",
           "#FECB52"
          ],
          "font": {
           "color": "#2a3f5f"
          },
          "geo": {
           "bgcolor": "white",
           "lakecolor": "white",
           "landcolor": "#E5ECF6",
           "showlakes": true,
           "showland": true,
           "subunitcolor": "white"
          },
          "hoverlabel": {
           "align": "left"
          },
          "hovermode": "closest",
          "mapbox": {
           "style": "light"
          },
          "paper_bgcolor": "white",
          "plot_bgcolor": "#E5ECF6",
          "polar": {
           "angularaxis": {
            "gridcolor": "white",
            "linecolor": "white",
            "ticks": ""
           },
           "bgcolor": "#E5ECF6",
           "radialaxis": {
            "gridcolor": "white",
            "linecolor": "white",
            "ticks": ""
           }
          },
          "scene": {
           "xaxis": {
            "backgroundcolor": "#E5ECF6",
            "gridcolor": "white",
            "gridwidth": 2,
            "linecolor": "white",
            "showbackground": true,
            "ticks": "",
            "zerolinecolor": "white"
           },
           "yaxis": {
            "backgroundcolor": "#E5ECF6",
            "gridcolor": "white",
            "gridwidth": 2,
            "linecolor": "white",
            "showbackground": true,
            "ticks": "",
            "zerolinecolor": "white"
           },
           "zaxis": {
            "backgroundcolor": "#E5ECF6",
            "gridcolor": "white",
            "gridwidth": 2,
            "linecolor": "white",
            "showbackground": true,
            "ticks": "",
            "zerolinecolor": "white"
           }
          },
          "shapedefaults": {
           "line": {
            "color": "#2a3f5f"
           }
          },
          "ternary": {
           "aaxis": {
            "gridcolor": "white",
            "linecolor": "white",
            "ticks": ""
           },
           "baxis": {
            "gridcolor": "white",
            "linecolor": "white",
            "ticks": ""
           },
           "bgcolor": "#E5ECF6",
           "caxis": {
            "gridcolor": "white",
            "linecolor": "white",
            "ticks": ""
           }
          },
          "title": {
           "x": 0.05
          },
          "xaxis": {
           "automargin": true,
           "gridcolor": "white",
           "linecolor": "white",
           "ticks": "",
           "title": {
            "standoff": 15
           },
           "zerolinecolor": "white",
           "zerolinewidth": 2
          },
          "yaxis": {
           "automargin": true,
           "gridcolor": "white",
           "linecolor": "white",
           "ticks": "",
           "title": {
            "standoff": 15
           },
           "zerolinecolor": "white",
           "zerolinewidth": 2
          }
         }
        },
        "title": {
         "text": "Avg Profile by Cluster",
         "x": 0.5
        },
        "width": 800
       }
      }
     },
     "metadata": {},
     "output_type": "display_data"
    }
   ],
   "source": [
    "fig = utils.plot_radar(player_dict=cluster_dict, categories=final_metrics, title='Avg Profile by Cluster', value='Statistics')"
   ]
  },
  {
   "attachments": {},
   "cell_type": "markdown",
   "metadata": {},
   "source": [
    "## Identify Targets"
   ]
  },
  {
   "attachments": {},
   "cell_type": "markdown",
   "metadata": {},
   "source": [
    "### Optimal Cluster"
   ]
  },
  {
   "cell_type": "code",
   "execution_count": 48,
   "metadata": {},
   "outputs": [
    {
     "data": {
      "text/plain": [
       "['Kepa Arrizabalaga',\n",
       " 'Alisson',\n",
       " 'Mike Maignan',\n",
       " 'Yassine Bounou',\n",
       " 'Danny Ward',\n",
       " 'Gregor Kobel',\n",
       " 'Ivan Provedel',\n",
       " 'Gerónimo Rulli',\n",
       " 'Florian Müller',\n",
       " 'Thibaut Courtois',\n",
       " 'Yann Sommer',\n",
       " 'Janis Blaswich',\n",
       " 'Bernd Leno',\n",
       " 'Brice Samba',\n",
       " 'Oliver Baumann',\n",
       " 'Ederson',\n",
       " 'Alex Meret',\n",
       " 'Andrea Consigli',\n",
       " 'Marc-André ter Stegen',\n",
       " 'Pepe Reina']"
      ]
     },
     "execution_count": 48,
     "metadata": {},
     "output_type": "execute_result"
    }
   ],
   "source": [
    "df_ms.loc[df_ms.Cluster==1].Player.unique().tolist()"
   ]
  },
  {
   "cell_type": "code",
   "execution_count": 49,
   "metadata": {},
   "outputs": [],
   "source": [
    "best_cluster_targets = [\n",
    " 'Mike Maignan',\n",
    " 'Yassine Bounou',\n",
    " 'Danny Ward',\n",
    " 'Gregor Kobel',\n",
    " 'Ivan Provedel',\n",
    " 'Gerónimo Rulli',\n",
    " 'Florian Müller',\n",
    " 'Janis Blaswich',\n",
    " 'Bernd Leno',\n",
    " 'Brice Samba',\n",
    " 'Oliver Baumann',\n",
    " 'Alex Meret',\n",
    " 'Andrea Consigli',\n",
    " 'Pepe Reina'\n",
    " ]"
   ]
  },
  {
   "cell_type": "code",
   "execution_count": 51,
   "metadata": {},
   "outputs": [
    {
     "data": {
      "text/html": [
       "<div>\n",
       "<style scoped>\n",
       "    .dataframe tbody tr th:only-of-type {\n",
       "        vertical-align: middle;\n",
       "    }\n",
       "\n",
       "    .dataframe tbody tr th {\n",
       "        vertical-align: top;\n",
       "    }\n",
       "\n",
       "    .dataframe thead th {\n",
       "        text-align: right;\n",
       "    }\n",
       "</style>\n",
       "<table border=\"1\" class=\"dataframe\">\n",
       "  <thead>\n",
       "    <tr style=\"text-align: right;\">\n",
       "      <th></th>\n",
       "      <th>Player</th>\n",
       "      <th>Squad</th>\n",
       "      <th>Age</th>\n",
       "      <th>Expected_/90</th>\n",
       "      <th>Passes_Launch%</th>\n",
       "      <th>Passes_AvgLen</th>\n",
       "      <th>Goal Kicks_Launch%</th>\n",
       "      <th>Goal Kicks_AvgLen</th>\n",
       "      <th>Crosses_Stp%</th>\n",
       "      <th>Sweeper_#OPA</th>\n",
       "      <th>Sweeper_AvgDist</th>\n",
       "      <th>Passes_Att</th>\n",
       "    </tr>\n",
       "  </thead>\n",
       "  <tbody>\n",
       "    <tr>\n",
       "      <th>44</th>\n",
       "      <td>Bernd Leno</td>\n",
       "      <td>Fulham</td>\n",
       "      <td>31</td>\n",
       "      <td>0.25</td>\n",
       "      <td>27.9</td>\n",
       "      <td>30.6</td>\n",
       "      <td>39.5</td>\n",
       "      <td>36.6</td>\n",
       "      <td>7.0</td>\n",
       "      <td>1.25</td>\n",
       "      <td>15.0</td>\n",
       "      <td>31.0</td>\n",
       "    </tr>\n",
       "    <tr>\n",
       "      <th>73</th>\n",
       "      <td>Pepe Reina</td>\n",
       "      <td>Villarreal</td>\n",
       "      <td>41</td>\n",
       "      <td>0.24</td>\n",
       "      <td>20.9</td>\n",
       "      <td>28.2</td>\n",
       "      <td>36.1</td>\n",
       "      <td>34.8</td>\n",
       "      <td>3.3</td>\n",
       "      <td>0.86</td>\n",
       "      <td>16.9</td>\n",
       "      <td>32.1</td>\n",
       "    </tr>\n",
       "    <tr>\n",
       "      <th>28</th>\n",
       "      <td>Gerónimo Rulli</td>\n",
       "      <td>Villarreal</td>\n",
       "      <td>31</td>\n",
       "      <td>0.18</td>\n",
       "      <td>19.3</td>\n",
       "      <td>28.8</td>\n",
       "      <td>34.8</td>\n",
       "      <td>37.9</td>\n",
       "      <td>9.3</td>\n",
       "      <td>1.50</td>\n",
       "      <td>15.5</td>\n",
       "      <td>32.2</td>\n",
       "    </tr>\n",
       "    <tr>\n",
       "      <th>27</th>\n",
       "      <td>Ivan Provedel</td>\n",
       "      <td>Lazio</td>\n",
       "      <td>29</td>\n",
       "      <td>0.12</td>\n",
       "      <td>28.8</td>\n",
       "      <td>33.0</td>\n",
       "      <td>35.4</td>\n",
       "      <td>34.7</td>\n",
       "      <td>4.1</td>\n",
       "      <td>1.51</td>\n",
       "      <td>16.6</td>\n",
       "      <td>29.9</td>\n",
       "    </tr>\n",
       "    <tr>\n",
       "      <th>46</th>\n",
       "      <td>Brice Samba</td>\n",
       "      <td>Lens</td>\n",
       "      <td>29</td>\n",
       "      <td>0.12</td>\n",
       "      <td>34.3</td>\n",
       "      <td>32.7</td>\n",
       "      <td>26.2</td>\n",
       "      <td>29.3</td>\n",
       "      <td>7.3</td>\n",
       "      <td>1.23</td>\n",
       "      <td>16.7</td>\n",
       "      <td>29.2</td>\n",
       "    </tr>\n",
       "    <tr>\n",
       "      <th>22</th>\n",
       "      <td>Gregor Kobel</td>\n",
       "      <td>Dortmund</td>\n",
       "      <td>26</td>\n",
       "      <td>0.09</td>\n",
       "      <td>21.7</td>\n",
       "      <td>29.4</td>\n",
       "      <td>42.5</td>\n",
       "      <td>37.8</td>\n",
       "      <td>4.9</td>\n",
       "      <td>1.57</td>\n",
       "      <td>17.3</td>\n",
       "      <td>32.7</td>\n",
       "    </tr>\n",
       "    <tr>\n",
       "      <th>59</th>\n",
       "      <td>Alex Meret</td>\n",
       "      <td>Napoli</td>\n",
       "      <td>26</td>\n",
       "      <td>0.04</td>\n",
       "      <td>14.9</td>\n",
       "      <td>26.2</td>\n",
       "      <td>20.6</td>\n",
       "      <td>27.1</td>\n",
       "      <td>3.4</td>\n",
       "      <td>1.07</td>\n",
       "      <td>17.0</td>\n",
       "      <td>22.0</td>\n",
       "    </tr>\n",
       "    <tr>\n",
       "      <th>19</th>\n",
       "      <td>Yassine Bounou</td>\n",
       "      <td>Sevilla</td>\n",
       "      <td>32</td>\n",
       "      <td>-0.03</td>\n",
       "      <td>27.7</td>\n",
       "      <td>30.7</td>\n",
       "      <td>51.0</td>\n",
       "      <td>41.9</td>\n",
       "      <td>6.6</td>\n",
       "      <td>1.62</td>\n",
       "      <td>17.2</td>\n",
       "      <td>33.4</td>\n",
       "    </tr>\n",
       "    <tr>\n",
       "      <th>16</th>\n",
       "      <td>Mike Maignan</td>\n",
       "      <td>Milan</td>\n",
       "      <td>28</td>\n",
       "      <td>-0.05</td>\n",
       "      <td>27.1</td>\n",
       "      <td>31.7</td>\n",
       "      <td>34.7</td>\n",
       "      <td>36.3</td>\n",
       "      <td>7.7</td>\n",
       "      <td>1.64</td>\n",
       "      <td>17.7</td>\n",
       "      <td>31.6</td>\n",
       "    </tr>\n",
       "    <tr>\n",
       "      <th>38</th>\n",
       "      <td>Janis Blaswich</td>\n",
       "      <td>RB Leipzig</td>\n",
       "      <td>32</td>\n",
       "      <td>-0.09</td>\n",
       "      <td>15.0</td>\n",
       "      <td>25.3</td>\n",
       "      <td>23.1</td>\n",
       "      <td>27.7</td>\n",
       "      <td>8.0</td>\n",
       "      <td>1.33</td>\n",
       "      <td>16.2</td>\n",
       "      <td>38.4</td>\n",
       "    </tr>\n",
       "    <tr>\n",
       "      <th>50</th>\n",
       "      <td>Oliver Baumann</td>\n",
       "      <td>Hoffenheim</td>\n",
       "      <td>33</td>\n",
       "      <td>-0.12</td>\n",
       "      <td>33.3</td>\n",
       "      <td>32.6</td>\n",
       "      <td>38.2</td>\n",
       "      <td>34.8</td>\n",
       "      <td>8.3</td>\n",
       "      <td>1.18</td>\n",
       "      <td>13.1</td>\n",
       "      <td>34.9</td>\n",
       "    </tr>\n",
       "    <tr>\n",
       "      <th>21</th>\n",
       "      <td>Danny Ward</td>\n",
       "      <td>Leicester City</td>\n",
       "      <td>30</td>\n",
       "      <td>-0.21</td>\n",
       "      <td>29.7</td>\n",
       "      <td>30.4</td>\n",
       "      <td>42.1</td>\n",
       "      <td>35.1</td>\n",
       "      <td>5.6</td>\n",
       "      <td>1.62</td>\n",
       "      <td>15.9</td>\n",
       "      <td>28.8</td>\n",
       "    </tr>\n",
       "    <tr>\n",
       "      <th>29</th>\n",
       "      <td>Florian Müller</td>\n",
       "      <td>Stuttgart</td>\n",
       "      <td>26</td>\n",
       "      <td>-0.36</td>\n",
       "      <td>26.9</td>\n",
       "      <td>29.2</td>\n",
       "      <td>38.3</td>\n",
       "      <td>36.6</td>\n",
       "      <td>2.3</td>\n",
       "      <td>1.47</td>\n",
       "      <td>18.9</td>\n",
       "      <td>31.5</td>\n",
       "    </tr>\n",
       "    <tr>\n",
       "      <th>64</th>\n",
       "      <td>Andrea Consigli</td>\n",
       "      <td>Sassuolo</td>\n",
       "      <td>36</td>\n",
       "      <td>-0.39</td>\n",
       "      <td>31.8</td>\n",
       "      <td>34.2</td>\n",
       "      <td>32.8</td>\n",
       "      <td>33.7</td>\n",
       "      <td>5.8</td>\n",
       "      <td>0.93</td>\n",
       "      <td>14.4</td>\n",
       "      <td>33.2</td>\n",
       "    </tr>\n",
       "  </tbody>\n",
       "</table>\n",
       "</div>"
      ],
      "text/plain": [
       "             Player           Squad  Age  Expected_/90  Passes_Launch%  \\\n",
       "44       Bernd Leno          Fulham   31          0.25            27.9   \n",
       "73       Pepe Reina      Villarreal   41          0.24            20.9   \n",
       "28   Gerónimo Rulli      Villarreal   31          0.18            19.3   \n",
       "27    Ivan Provedel           Lazio   29          0.12            28.8   \n",
       "46      Brice Samba            Lens   29          0.12            34.3   \n",
       "22     Gregor Kobel        Dortmund   26          0.09            21.7   \n",
       "59       Alex Meret          Napoli   26          0.04            14.9   \n",
       "19   Yassine Bounou         Sevilla   32         -0.03            27.7   \n",
       "16     Mike Maignan           Milan   28         -0.05            27.1   \n",
       "38   Janis Blaswich      RB Leipzig   32         -0.09            15.0   \n",
       "50   Oliver Baumann      Hoffenheim   33         -0.12            33.3   \n",
       "21       Danny Ward  Leicester City   30         -0.21            29.7   \n",
       "29   Florian Müller       Stuttgart   26         -0.36            26.9   \n",
       "64  Andrea Consigli        Sassuolo   36         -0.39            31.8   \n",
       "\n",
       "    Passes_AvgLen  Goal Kicks_Launch%  Goal Kicks_AvgLen  Crosses_Stp%  \\\n",
       "44           30.6                39.5               36.6           7.0   \n",
       "73           28.2                36.1               34.8           3.3   \n",
       "28           28.8                34.8               37.9           9.3   \n",
       "27           33.0                35.4               34.7           4.1   \n",
       "46           32.7                26.2               29.3           7.3   \n",
       "22           29.4                42.5               37.8           4.9   \n",
       "59           26.2                20.6               27.1           3.4   \n",
       "19           30.7                51.0               41.9           6.6   \n",
       "16           31.7                34.7               36.3           7.7   \n",
       "38           25.3                23.1               27.7           8.0   \n",
       "50           32.6                38.2               34.8           8.3   \n",
       "21           30.4                42.1               35.1           5.6   \n",
       "29           29.2                38.3               36.6           2.3   \n",
       "64           34.2                32.8               33.7           5.8   \n",
       "\n",
       "    Sweeper_#OPA  Sweeper_AvgDist  Passes_Att  \n",
       "44          1.25             15.0        31.0  \n",
       "73          0.86             16.9        32.1  \n",
       "28          1.50             15.5        32.2  \n",
       "27          1.51             16.6        29.9  \n",
       "46          1.23             16.7        29.2  \n",
       "22          1.57             17.3        32.7  \n",
       "59          1.07             17.0        22.0  \n",
       "19          1.62             17.2        33.4  \n",
       "16          1.64             17.7        31.6  \n",
       "38          1.33             16.2        38.4  \n",
       "50          1.18             13.1        34.9  \n",
       "21          1.62             15.9        28.8  \n",
       "29          1.47             18.9        31.5  \n",
       "64          0.93             14.4        33.2  "
      ]
     },
     "execution_count": 51,
     "metadata": {},
     "output_type": "execute_result"
    }
   ],
   "source": [
    "df.loc[df.Player.isin(best_cluster_targets)][['Player','Squad','Age','Expected_/90']+metrics].sort_values(['Expected_/90'], ascending=False)"
   ]
  },
  {
   "cell_type": "code",
   "execution_count": 53,
   "metadata": {},
   "outputs": [
    {
     "data": {
      "text/html": [
       "<div>\n",
       "<style scoped>\n",
       "    .dataframe tbody tr th:only-of-type {\n",
       "        vertical-align: middle;\n",
       "    }\n",
       "\n",
       "    .dataframe tbody tr th {\n",
       "        vertical-align: top;\n",
       "    }\n",
       "\n",
       "    .dataframe thead th {\n",
       "        text-align: right;\n",
       "    }\n",
       "</style>\n",
       "<table border=\"1\" class=\"dataframe\">\n",
       "  <thead>\n",
       "    <tr style=\"text-align: right;\">\n",
       "      <th></th>\n",
       "      <th>Player</th>\n",
       "      <th>Squad</th>\n",
       "      <th>Age</th>\n",
       "      <th>Expected_/90</th>\n",
       "      <th>Passes_Launch%</th>\n",
       "      <th>Passes_AvgLen</th>\n",
       "      <th>Goal Kicks_Launch%</th>\n",
       "      <th>Goal Kicks_AvgLen</th>\n",
       "      <th>Crosses_Stp%</th>\n",
       "      <th>Sweeper_#OPA</th>\n",
       "      <th>Sweeper_AvgDist</th>\n",
       "      <th>Passes_Att</th>\n",
       "    </tr>\n",
       "  </thead>\n",
       "  <tbody>\n",
       "    <tr>\n",
       "      <th>75</th>\n",
       "      <td>David de Gea</td>\n",
       "      <td>Manchester Utd</td>\n",
       "      <td>33</td>\n",
       "      <td>-0.08</td>\n",
       "      <td>31.6</td>\n",
       "      <td>31.6</td>\n",
       "      <td>65.5</td>\n",
       "      <td>48.3</td>\n",
       "      <td>3.0</td>\n",
       "      <td>0.83</td>\n",
       "      <td>14.5</td>\n",
       "      <td>27.1</td>\n",
       "    </tr>\n",
       "  </tbody>\n",
       "</table>\n",
       "</div>"
      ],
      "text/plain": [
       "          Player           Squad  Age  Expected_/90  Passes_Launch%  \\\n",
       "75  David de Gea  Manchester Utd   33         -0.08            31.6   \n",
       "\n",
       "    Passes_AvgLen  Goal Kicks_Launch%  Goal Kicks_AvgLen  Crosses_Stp%  \\\n",
       "75           31.6                65.5               48.3           3.0   \n",
       "\n",
       "    Sweeper_#OPA  Sweeper_AvgDist  Passes_Att  \n",
       "75          0.83             14.5        27.1  "
      ]
     },
     "execution_count": 53,
     "metadata": {},
     "output_type": "execute_result"
    }
   ],
   "source": [
    "df.loc[df.Player=='David de Gea'][['Player','Squad','Age','Expected_/90']+metrics]"
   ]
  },
  {
   "cell_type": "code",
   "execution_count": 86,
   "metadata": {},
   "outputs": [],
   "source": [
    "first_targets = df.loc[(df.Player.isin(best_cluster_targets))&(df['Expected_/90']>0)&(df.Age<30)].Player.unique().tolist()"
   ]
  },
  {
   "cell_type": "code",
   "execution_count": 94,
   "metadata": {},
   "outputs": [
    {
     "name": "stdout",
     "output_type": "stream",
     "text": [
      "|    | Player        | Squad          |   Age |   Expected_/90 |   Passes_Launch% |   Passes_AvgLen |   Goal Kicks_Launch% |   Goal Kicks_AvgLen |   Crosses_Stp% |   Sweeper_#OPA |   Sweeper_AvgDist |   Passes_Att |\n",
      "|---:|:--------------|:---------------|------:|---------------:|-----------------:|----------------:|---------------------:|--------------------:|---------------:|---------------:|------------------:|-------------:|\n",
      "| 27 | Ivan Provedel | Lazio          |    29 |           0.12 |             28.8 |            33   |                 35.4 |                34.7 |            4.1 |           1.51 |              16.6 |         29.9 |\n",
      "| 46 | Brice Samba   | Lens           |    29 |           0.12 |             34.3 |            32.7 |                 26.2 |                29.3 |            7.3 |           1.23 |              16.7 |         29.2 |\n",
      "| 22 | Gregor Kobel  | Dortmund       |    26 |           0.09 |             21.7 |            29.4 |                 42.5 |                37.8 |            4.9 |           1.57 |              17.3 |         32.7 |\n",
      "| 59 | Alex Meret    | Napoli         |    26 |           0.04 |             14.9 |            26.2 |                 20.6 |                27.1 |            3.4 |           1.07 |              17   |         22   |\n",
      "| 75 | David de Gea  | Manchester Utd |    33 |          -0.08 |             31.6 |            31.6 |                 65.5 |                48.3 |            3   |           0.83 |              14.5 |         27.1 |\n"
     ]
    }
   ],
   "source": [
    "print(df.loc[df.Player.isin(first_targets+['David de Gea'])][['Player','Squad','Age','Expected_/90']+metrics].sort_values(['Expected_/90'], ascending=False).to_markdown())"
   ]
  },
  {
   "cell_type": "code",
   "execution_count": 88,
   "metadata": {},
   "outputs": [],
   "source": [
    "targets_dict = {player: utils.generate_stats(df_ms, player, final_metrics) for player in first_targets}\n",
    "targets_dict.update({'David de Gea':utils.generate_stats(df_ms, 'David de Gea', final_metrics)})"
   ]
  },
  {
   "cell_type": "code",
   "execution_count": 89,
   "metadata": {},
   "outputs": [
    {
     "data": {
      "application/vnd.plotly.v1+json": {
       "config": {
        "plotlyServerURL": "https://plot.ly"
       },
       "data": [
        {
         "fill": "toself",
         "name": "Gregor Kobel",
         "r": [
          0.4318181818181819,
          0.6445497630331753,
          0.7916666666666667,
          0.8505154639175259,
          0.7622950819672132,
          0.6898016997167138,
          0.7178329571106096,
          0.6787330316742084
         ],
         "theta": [
          "Crosses_Stp%",
          "Sweeper_#OPA",
          "Sweeper_AvgDist",
          "Rev_Passes_Launch%",
          "Rev_Passes_AvgLen",
          "Rev_Goal Kicks_Launch%",
          "Rev_Goal Kicks_AvgLen",
          "Passes_Att"
         ],
         "type": "scatterpolar"
        },
        {
         "fill": "toself",
         "name": "Ivan Provedel",
         "r": [
          0.34090909090909083,
          0.6161137440758294,
          0.7187500000000002,
          0.7285223367697595,
          0.6147540983606559,
          0.7903682719546742,
          0.7878103837471783,
          0.5520361990950227
         ],
         "theta": [
          "Crosses_Stp%",
          "Sweeper_#OPA",
          "Sweeper_AvgDist",
          "Rev_Passes_Launch%",
          "Rev_Passes_AvgLen",
          "Rev_Goal Kicks_Launch%",
          "Rev_Goal Kicks_AvgLen",
          "Passes_Att"
         ],
         "type": "scatterpolar"
        },
        {
         "fill": "toself",
         "name": "Brice Samba",
         "r": [
          0.7045454545454545,
          0.4834123222748815,
          0.7291666666666665,
          0.6340206185567011,
          0.6270491803278688,
          0.9206798866855523,
          0.909706546275395,
          0.5203619909502264
         ],
         "theta": [
          "Crosses_Stp%",
          "Sweeper_#OPA",
          "Sweeper_AvgDist",
          "Rev_Passes_Launch%",
          "Rev_Passes_AvgLen",
          "Rev_Goal Kicks_Launch%",
          "Rev_Goal Kicks_AvgLen",
          "Passes_Att"
         ],
         "type": "scatterpolar"
        },
        {
         "fill": "toself",
         "name": "Alex Meret",
         "r": [
          0.26136363636363635,
          0.4075829383886256,
          0.7604166666666667,
          0.9673539518900344,
          0.8934426229508199,
          1,
          0.9593679458239278,
          0.19457013574660642
         ],
         "theta": [
          "Crosses_Stp%",
          "Sweeper_#OPA",
          "Sweeper_AvgDist",
          "Rev_Passes_Launch%",
          "Rev_Passes_AvgLen",
          "Rev_Goal Kicks_Launch%",
          "Rev_Goal Kicks_AvgLen",
          "Passes_Att"
         ],
         "type": "scatterpolar"
        },
        {
         "fill": "toself",
         "name": "David de Gea",
         "r": [
          0.21590909090909088,
          0.29383886255924174,
          0.5,
          0.6804123711340206,
          0.6721311475409837,
          0.36402266288951834,
          0.4808126410835215,
          0.42533936651583737
         ],
         "theta": [
          "Crosses_Stp%",
          "Sweeper_#OPA",
          "Sweeper_AvgDist",
          "Rev_Passes_Launch%",
          "Rev_Passes_AvgLen",
          "Rev_Goal Kicks_Launch%",
          "Rev_Goal Kicks_AvgLen",
          "Passes_Att"
         ],
         "type": "scatterpolar"
        }
       ],
       "layout": {
        "height": 600,
        "polar": {
         "radialaxis": {
          "range": [
           0,
           1
          ],
          "showticklabels": false,
          "visible": true
         }
        },
        "showlegend": true,
        "template": {
         "data": {
          "bar": [
           {
            "error_x": {
             "color": "#2a3f5f"
            },
            "error_y": {
             "color": "#2a3f5f"
            },
            "marker": {
             "line": {
              "color": "#E5ECF6",
              "width": 0.5
             },
             "pattern": {
              "fillmode": "overlay",
              "size": 10,
              "solidity": 0.2
             }
            },
            "type": "bar"
           }
          ],
          "barpolar": [
           {
            "marker": {
             "line": {
              "color": "#E5ECF6",
              "width": 0.5
             },
             "pattern": {
              "fillmode": "overlay",
              "size": 10,
              "solidity": 0.2
             }
            },
            "type": "barpolar"
           }
          ],
          "carpet": [
           {
            "aaxis": {
             "endlinecolor": "#2a3f5f",
             "gridcolor": "white",
             "linecolor": "white",
             "minorgridcolor": "white",
             "startlinecolor": "#2a3f5f"
            },
            "baxis": {
             "endlinecolor": "#2a3f5f",
             "gridcolor": "white",
             "linecolor": "white",
             "minorgridcolor": "white",
             "startlinecolor": "#2a3f5f"
            },
            "type": "carpet"
           }
          ],
          "choropleth": [
           {
            "colorbar": {
             "outlinewidth": 0,
             "ticks": ""
            },
            "type": "choropleth"
           }
          ],
          "contour": [
           {
            "colorbar": {
             "outlinewidth": 0,
             "ticks": ""
            },
            "colorscale": [
             [
              0,
              "#0d0887"
             ],
             [
              0.1111111111111111,
              "#46039f"
             ],
             [
              0.2222222222222222,
              "#7201a8"
             ],
             [
              0.3333333333333333,
              "#9c179e"
             ],
             [
              0.4444444444444444,
              "#bd3786"
             ],
             [
              0.5555555555555556,
              "#d8576b"
             ],
             [
              0.6666666666666666,
              "#ed7953"
             ],
             [
              0.7777777777777778,
              "#fb9f3a"
             ],
             [
              0.8888888888888888,
              "#fdca26"
             ],
             [
              1,
              "#f0f921"
             ]
            ],
            "type": "contour"
           }
          ],
          "contourcarpet": [
           {
            "colorbar": {
             "outlinewidth": 0,
             "ticks": ""
            },
            "type": "contourcarpet"
           }
          ],
          "heatmap": [
           {
            "colorbar": {
             "outlinewidth": 0,
             "ticks": ""
            },
            "colorscale": [
             [
              0,
              "#0d0887"
             ],
             [
              0.1111111111111111,
              "#46039f"
             ],
             [
              0.2222222222222222,
              "#7201a8"
             ],
             [
              0.3333333333333333,
              "#9c179e"
             ],
             [
              0.4444444444444444,
              "#bd3786"
             ],
             [
              0.5555555555555556,
              "#d8576b"
             ],
             [
              0.6666666666666666,
              "#ed7953"
             ],
             [
              0.7777777777777778,
              "#fb9f3a"
             ],
             [
              0.8888888888888888,
              "#fdca26"
             ],
             [
              1,
              "#f0f921"
             ]
            ],
            "type": "heatmap"
           }
          ],
          "heatmapgl": [
           {
            "colorbar": {
             "outlinewidth": 0,
             "ticks": ""
            },
            "colorscale": [
             [
              0,
              "#0d0887"
             ],
             [
              0.1111111111111111,
              "#46039f"
             ],
             [
              0.2222222222222222,
              "#7201a8"
             ],
             [
              0.3333333333333333,
              "#9c179e"
             ],
             [
              0.4444444444444444,
              "#bd3786"
             ],
             [
              0.5555555555555556,
              "#d8576b"
             ],
             [
              0.6666666666666666,
              "#ed7953"
             ],
             [
              0.7777777777777778,
              "#fb9f3a"
             ],
             [
              0.8888888888888888,
              "#fdca26"
             ],
             [
              1,
              "#f0f921"
             ]
            ],
            "type": "heatmapgl"
           }
          ],
          "histogram": [
           {
            "marker": {
             "pattern": {
              "fillmode": "overlay",
              "size": 10,
              "solidity": 0.2
             }
            },
            "type": "histogram"
           }
          ],
          "histogram2d": [
           {
            "colorbar": {
             "outlinewidth": 0,
             "ticks": ""
            },
            "colorscale": [
             [
              0,
              "#0d0887"
             ],
             [
              0.1111111111111111,
              "#46039f"
             ],
             [
              0.2222222222222222,
              "#7201a8"
             ],
             [
              0.3333333333333333,
              "#9c179e"
             ],
             [
              0.4444444444444444,
              "#bd3786"
             ],
             [
              0.5555555555555556,
              "#d8576b"
             ],
             [
              0.6666666666666666,
              "#ed7953"
             ],
             [
              0.7777777777777778,
              "#fb9f3a"
             ],
             [
              0.8888888888888888,
              "#fdca26"
             ],
             [
              1,
              "#f0f921"
             ]
            ],
            "type": "histogram2d"
           }
          ],
          "histogram2dcontour": [
           {
            "colorbar": {
             "outlinewidth": 0,
             "ticks": ""
            },
            "colorscale": [
             [
              0,
              "#0d0887"
             ],
             [
              0.1111111111111111,
              "#46039f"
             ],
             [
              0.2222222222222222,
              "#7201a8"
             ],
             [
              0.3333333333333333,
              "#9c179e"
             ],
             [
              0.4444444444444444,
              "#bd3786"
             ],
             [
              0.5555555555555556,
              "#d8576b"
             ],
             [
              0.6666666666666666,
              "#ed7953"
             ],
             [
              0.7777777777777778,
              "#fb9f3a"
             ],
             [
              0.8888888888888888,
              "#fdca26"
             ],
             [
              1,
              "#f0f921"
             ]
            ],
            "type": "histogram2dcontour"
           }
          ],
          "mesh3d": [
           {
            "colorbar": {
             "outlinewidth": 0,
             "ticks": ""
            },
            "type": "mesh3d"
           }
          ],
          "parcoords": [
           {
            "line": {
             "colorbar": {
              "outlinewidth": 0,
              "ticks": ""
             }
            },
            "type": "parcoords"
           }
          ],
          "pie": [
           {
            "automargin": true,
            "type": "pie"
           }
          ],
          "scatter": [
           {
            "fillpattern": {
             "fillmode": "overlay",
             "size": 10,
             "solidity": 0.2
            },
            "type": "scatter"
           }
          ],
          "scatter3d": [
           {
            "line": {
             "colorbar": {
              "outlinewidth": 0,
              "ticks": ""
             }
            },
            "marker": {
             "colorbar": {
              "outlinewidth": 0,
              "ticks": ""
             }
            },
            "type": "scatter3d"
           }
          ],
          "scattercarpet": [
           {
            "marker": {
             "colorbar": {
              "outlinewidth": 0,
              "ticks": ""
             }
            },
            "type": "scattercarpet"
           }
          ],
          "scattergeo": [
           {
            "marker": {
             "colorbar": {
              "outlinewidth": 0,
              "ticks": ""
             }
            },
            "type": "scattergeo"
           }
          ],
          "scattergl": [
           {
            "marker": {
             "colorbar": {
              "outlinewidth": 0,
              "ticks": ""
             }
            },
            "type": "scattergl"
           }
          ],
          "scattermapbox": [
           {
            "marker": {
             "colorbar": {
              "outlinewidth": 0,
              "ticks": ""
             }
            },
            "type": "scattermapbox"
           }
          ],
          "scatterpolar": [
           {
            "marker": {
             "colorbar": {
              "outlinewidth": 0,
              "ticks": ""
             }
            },
            "type": "scatterpolar"
           }
          ],
          "scatterpolargl": [
           {
            "marker": {
             "colorbar": {
              "outlinewidth": 0,
              "ticks": ""
             }
            },
            "type": "scatterpolargl"
           }
          ],
          "scatterternary": [
           {
            "marker": {
             "colorbar": {
              "outlinewidth": 0,
              "ticks": ""
             }
            },
            "type": "scatterternary"
           }
          ],
          "surface": [
           {
            "colorbar": {
             "outlinewidth": 0,
             "ticks": ""
            },
            "colorscale": [
             [
              0,
              "#0d0887"
             ],
             [
              0.1111111111111111,
              "#46039f"
             ],
             [
              0.2222222222222222,
              "#7201a8"
             ],
             [
              0.3333333333333333,
              "#9c179e"
             ],
             [
              0.4444444444444444,
              "#bd3786"
             ],
             [
              0.5555555555555556,
              "#d8576b"
             ],
             [
              0.6666666666666666,
              "#ed7953"
             ],
             [
              0.7777777777777778,
              "#fb9f3a"
             ],
             [
              0.8888888888888888,
              "#fdca26"
             ],
             [
              1,
              "#f0f921"
             ]
            ],
            "type": "surface"
           }
          ],
          "table": [
           {
            "cells": {
             "fill": {
              "color": "#EBF0F8"
             },
             "line": {
              "color": "white"
             }
            },
            "header": {
             "fill": {
              "color": "#C8D4E3"
             },
             "line": {
              "color": "white"
             }
            },
            "type": "table"
           }
          ]
         },
         "layout": {
          "annotationdefaults": {
           "arrowcolor": "#2a3f5f",
           "arrowhead": 0,
           "arrowwidth": 1
          },
          "autotypenumbers": "strict",
          "coloraxis": {
           "colorbar": {
            "outlinewidth": 0,
            "ticks": ""
           }
          },
          "colorscale": {
           "diverging": [
            [
             0,
             "#8e0152"
            ],
            [
             0.1,
             "#c51b7d"
            ],
            [
             0.2,
             "#de77ae"
            ],
            [
             0.3,
             "#f1b6da"
            ],
            [
             0.4,
             "#fde0ef"
            ],
            [
             0.5,
             "#f7f7f7"
            ],
            [
             0.6,
             "#e6f5d0"
            ],
            [
             0.7,
             "#b8e186"
            ],
            [
             0.8,
             "#7fbc41"
            ],
            [
             0.9,
             "#4d9221"
            ],
            [
             1,
             "#276419"
            ]
           ],
           "sequential": [
            [
             0,
             "#0d0887"
            ],
            [
             0.1111111111111111,
             "#46039f"
            ],
            [
             0.2222222222222222,
             "#7201a8"
            ],
            [
             0.3333333333333333,
             "#9c179e"
            ],
            [
             0.4444444444444444,
             "#bd3786"
            ],
            [
             0.5555555555555556,
             "#d8576b"
            ],
            [
             0.6666666666666666,
             "#ed7953"
            ],
            [
             0.7777777777777778,
             "#fb9f3a"
            ],
            [
             0.8888888888888888,
             "#fdca26"
            ],
            [
             1,
             "#f0f921"
            ]
           ],
           "sequentialminus": [
            [
             0,
             "#0d0887"
            ],
            [
             0.1111111111111111,
             "#46039f"
            ],
            [
             0.2222222222222222,
             "#7201a8"
            ],
            [
             0.3333333333333333,
             "#9c179e"
            ],
            [
             0.4444444444444444,
             "#bd3786"
            ],
            [
             0.5555555555555556,
             "#d8576b"
            ],
            [
             0.6666666666666666,
             "#ed7953"
            ],
            [
             0.7777777777777778,
             "#fb9f3a"
            ],
            [
             0.8888888888888888,
             "#fdca26"
            ],
            [
             1,
             "#f0f921"
            ]
           ]
          },
          "colorway": [
           "#636efa",
           "#EF553B",
           "#00cc96",
           "#ab63fa",
           "#FFA15A",
           "#19d3f3",
           "#FF6692",
           "#B6E880",
           "#FF97FF",
           "#FECB52"
          ],
          "font": {
           "color": "#2a3f5f"
          },
          "geo": {
           "bgcolor": "white",
           "lakecolor": "white",
           "landcolor": "#E5ECF6",
           "showlakes": true,
           "showland": true,
           "subunitcolor": "white"
          },
          "hoverlabel": {
           "align": "left"
          },
          "hovermode": "closest",
          "mapbox": {
           "style": "light"
          },
          "paper_bgcolor": "white",
          "plot_bgcolor": "#E5ECF6",
          "polar": {
           "angularaxis": {
            "gridcolor": "white",
            "linecolor": "white",
            "ticks": ""
           },
           "bgcolor": "#E5ECF6",
           "radialaxis": {
            "gridcolor": "white",
            "linecolor": "white",
            "ticks": ""
           }
          },
          "scene": {
           "xaxis": {
            "backgroundcolor": "#E5ECF6",
            "gridcolor": "white",
            "gridwidth": 2,
            "linecolor": "white",
            "showbackground": true,
            "ticks": "",
            "zerolinecolor": "white"
           },
           "yaxis": {
            "backgroundcolor": "#E5ECF6",
            "gridcolor": "white",
            "gridwidth": 2,
            "linecolor": "white",
            "showbackground": true,
            "ticks": "",
            "zerolinecolor": "white"
           },
           "zaxis": {
            "backgroundcolor": "#E5ECF6",
            "gridcolor": "white",
            "gridwidth": 2,
            "linecolor": "white",
            "showbackground": true,
            "ticks": "",
            "zerolinecolor": "white"
           }
          },
          "shapedefaults": {
           "line": {
            "color": "#2a3f5f"
           }
          },
          "ternary": {
           "aaxis": {
            "gridcolor": "white",
            "linecolor": "white",
            "ticks": ""
           },
           "baxis": {
            "gridcolor": "white",
            "linecolor": "white",
            "ticks": ""
           },
           "bgcolor": "#E5ECF6",
           "caxis": {
            "gridcolor": "white",
            "linecolor": "white",
            "ticks": ""
           }
          },
          "title": {
           "x": 0.05
          },
          "xaxis": {
           "automargin": true,
           "gridcolor": "white",
           "linecolor": "white",
           "ticks": "",
           "title": {
            "standoff": 15
           },
           "zerolinecolor": "white",
           "zerolinewidth": 2
          },
          "yaxis": {
           "automargin": true,
           "gridcolor": "white",
           "linecolor": "white",
           "ticks": "",
           "title": {
            "standoff": 15
           },
           "zerolinecolor": "white",
           "zerolinewidth": 2
          }
         }
        },
        "title": {
         "text": "Targets Playmaking Profile",
         "x": 0.5
        },
        "width": 800
       }
      }
     },
     "metadata": {},
     "output_type": "display_data"
    }
   ],
   "source": [
    "fig = utils.plot_radar(player_dict=targets_dict, categories=final_metrics, title='Targets Playmaking Profile', value='Statistics')"
   ]
  },
  {
   "attachments": {},
   "cell_type": "markdown",
   "metadata": {},
   "source": [
    "### 2nd Optimal Cluster"
   ]
  },
  {
   "cell_type": "code",
   "execution_count": 68,
   "metadata": {},
   "outputs": [
    {
     "data": {
      "text/plain": [
       "['Hugo Lloris',\n",
       " 'Pau López',\n",
       " 'Yehvann Diouf',\n",
       " 'Vicente Guaita',\n",
       " 'Jonas Omlin',\n",
       " 'Wojciech Szcz?sny',\n",
       " 'Alban Lafont',\n",
       " 'Alexander Nübel',\n",
       " 'Matz Sels',\n",
       " 'José Sá',\n",
       " 'David de Gea',\n",
       " 'Ciprian T?t?ru?anu',\n",
       " 'Kevin Trapp',\n",
       " 'Gianluigi Donnarumma',\n",
       " 'Rui Patrício',\n",
       " 'Luigi Sepe',\n",
       " 'Michele Di Gregorio',\n",
       " 'Jan Oblak',\n",
       " 'Marco Bizot',\n",
       " 'Fernando',\n",
       " 'Kasper Schmeichel',\n",
       " '?ukasz Skorupski',\n",
       " 'Lucas Chevalier',\n",
       " 'Paul Bernardoni',\n",
       " 'Mory Diaw',\n",
       " 'Maxime Dupé',\n",
       " 'Guglielmo Vicario',\n",
       " 'Lukáš Hrádecký',\n",
       " 'Anthony Lopes',\n",
       " 'Robert Sánchez',\n",
       " 'Marvin Schwäbe',\n",
       " 'Yvon Mvogo',\n",
       " 'Marco Silvestri',\n",
       " 'Vito Mannone',\n",
       " 'André Onana',\n",
       " 'Jordi Masip',\n",
       " 'Gauthier Gallon',\n",
       " 'Édgar Badía']"
      ]
     },
     "execution_count": 68,
     "metadata": {},
     "output_type": "execute_result"
    }
   ],
   "source": [
    "df_ms.loc[df_ms.Cluster==3].Player.unique().tolist()"
   ]
  },
  {
   "cell_type": "code",
   "execution_count": 78,
   "metadata": {},
   "outputs": [],
   "source": [
    "# based on eye balling best passers within that cluster\n",
    "second_best_cluster_targets = [\n",
    " 'Yehvann Diouf',\n",
    " 'Michele Di Gregorio',\n",
    " 'Lukáš Hrádecký',\n",
    " 'Anthony Lopes',\n",
    " 'Marvin Schwäbe',\n",
    " 'André Onana'\n",
    " ]"
   ]
  },
  {
   "cell_type": "code",
   "execution_count": 79,
   "metadata": {},
   "outputs": [
    {
     "data": {
      "application/vnd.plotly.v1+json": {
       "config": {
        "plotlyServerURL": "https://plot.ly"
       },
       "data": [
        {
         "fill": "toself",
         "name": "Yehvann Diouf",
         "r": [
          0.9318181818181819,
          0.4360189573459715,
          0.3125,
          0.7130584192439863,
          0.6434426229508199,
          0.8257790368271954,
          0.8081264108352145,
          0.43438914027149345
         ],
         "theta": [
          "Crosses_Stp%",
          "Sweeper_#OPA",
          "Sweeper_AvgDist",
          "Rev_Passes_Launch%",
          "Rev_Passes_AvgLen",
          "Rev_Goal Kicks_Launch%",
          "Rev_Goal Kicks_AvgLen",
          "Passes_Att"
         ],
         "type": "scatterpolar"
        },
        {
         "fill": "toself",
         "name": "Michele Di Gregorio",
         "r": [
          0.2272727272727273,
          0.24170616113744073,
          0.28125,
          0.6993127147766324,
          0.639344262295082,
          0.7917847025495751,
          0.817155756207675,
          0.6832579185520362
         ],
         "theta": [
          "Crosses_Stp%",
          "Sweeper_#OPA",
          "Sweeper_AvgDist",
          "Rev_Passes_Launch%",
          "Rev_Passes_AvgLen",
          "Rev_Goal Kicks_Launch%",
          "Rev_Goal Kicks_AvgLen",
          "Passes_Att"
         ],
         "type": "scatterpolar"
        },
        {
         "fill": "toself",
         "name": "Lukáš Hrádecký",
         "r": [
          0.6136363636363636,
          0.18009478672985782,
          0.36458333333333326,
          0.6666666666666667,
          0.6352459016393444,
          0.6841359773371105,
          0.7313769751693002,
          0.4751131221719458
         ],
         "theta": [
          "Crosses_Stp%",
          "Sweeper_#OPA",
          "Sweeper_AvgDist",
          "Rev_Passes_Launch%",
          "Rev_Passes_AvgLen",
          "Rev_Goal Kicks_Launch%",
          "Rev_Goal Kicks_AvgLen",
          "Passes_Att"
         ],
         "type": "scatterpolar"
        },
        {
         "fill": "toself",
         "name": "Anthony Lopes",
         "r": [
          0.5,
          0.17535545023696683,
          0.3125,
          0.6701030927835051,
          0.639344262295082,
          0.8512747875354107,
          0.8397291196388262,
          0.31221719457013597
         ],
         "theta": [
          "Crosses_Stp%",
          "Sweeper_#OPA",
          "Sweeper_AvgDist",
          "Rev_Passes_Launch%",
          "Rev_Passes_AvgLen",
          "Rev_Goal Kicks_Launch%",
          "Rev_Goal Kicks_AvgLen",
          "Passes_Att"
         ],
         "type": "scatterpolar"
        },
        {
         "fill": "toself",
         "name": "Marvin Schwäbe",
         "r": [
          0.3181818181818182,
          0.15639810426540288,
          0.3333333333333335,
          0.7474226804123711,
          0.6926229508196722,
          0.8824362606232294,
          0.8261851015801355,
          0.8325791855203621
         ],
         "theta": [
          "Crosses_Stp%",
          "Sweeper_#OPA",
          "Sweeper_AvgDist",
          "Rev_Passes_Launch%",
          "Rev_Passes_AvgLen",
          "Rev_Goal Kicks_Launch%",
          "Rev_Goal Kicks_AvgLen",
          "Passes_Att"
         ],
         "type": "scatterpolar"
        },
        {
         "fill": "toself",
         "name": "André Onana",
         "r": [
          0.5568181818181818,
          0.1137440758293839,
          0.29166666666666674,
          0.7646048109965636,
          0.7295081967213115,
          0.8342776203966006,
          0.762979683972912,
          0.7828054298642535
         ],
         "theta": [
          "Crosses_Stp%",
          "Sweeper_#OPA",
          "Sweeper_AvgDist",
          "Rev_Passes_Launch%",
          "Rev_Passes_AvgLen",
          "Rev_Goal Kicks_Launch%",
          "Rev_Goal Kicks_AvgLen",
          "Passes_Att"
         ],
         "type": "scatterpolar"
        },
        {
         "fill": "toself",
         "name": "David de Gea",
         "r": [
          0.21590909090909088,
          0.29383886255924174,
          0.5,
          0.6804123711340206,
          0.6721311475409837,
          0.36402266288951834,
          0.4808126410835215,
          0.42533936651583737
         ],
         "theta": [
          "Crosses_Stp%",
          "Sweeper_#OPA",
          "Sweeper_AvgDist",
          "Rev_Passes_Launch%",
          "Rev_Passes_AvgLen",
          "Rev_Goal Kicks_Launch%",
          "Rev_Goal Kicks_AvgLen",
          "Passes_Att"
         ],
         "type": "scatterpolar"
        }
       ],
       "layout": {
        "height": 600,
        "polar": {
         "radialaxis": {
          "range": [
           0,
           1
          ],
          "showticklabels": false,
          "visible": true
         }
        },
        "showlegend": true,
        "template": {
         "data": {
          "bar": [
           {
            "error_x": {
             "color": "#2a3f5f"
            },
            "error_y": {
             "color": "#2a3f5f"
            },
            "marker": {
             "line": {
              "color": "#E5ECF6",
              "width": 0.5
             },
             "pattern": {
              "fillmode": "overlay",
              "size": 10,
              "solidity": 0.2
             }
            },
            "type": "bar"
           }
          ],
          "barpolar": [
           {
            "marker": {
             "line": {
              "color": "#E5ECF6",
              "width": 0.5
             },
             "pattern": {
              "fillmode": "overlay",
              "size": 10,
              "solidity": 0.2
             }
            },
            "type": "barpolar"
           }
          ],
          "carpet": [
           {
            "aaxis": {
             "endlinecolor": "#2a3f5f",
             "gridcolor": "white",
             "linecolor": "white",
             "minorgridcolor": "white",
             "startlinecolor": "#2a3f5f"
            },
            "baxis": {
             "endlinecolor": "#2a3f5f",
             "gridcolor": "white",
             "linecolor": "white",
             "minorgridcolor": "white",
             "startlinecolor": "#2a3f5f"
            },
            "type": "carpet"
           }
          ],
          "choropleth": [
           {
            "colorbar": {
             "outlinewidth": 0,
             "ticks": ""
            },
            "type": "choropleth"
           }
          ],
          "contour": [
           {
            "colorbar": {
             "outlinewidth": 0,
             "ticks": ""
            },
            "colorscale": [
             [
              0,
              "#0d0887"
             ],
             [
              0.1111111111111111,
              "#46039f"
             ],
             [
              0.2222222222222222,
              "#7201a8"
             ],
             [
              0.3333333333333333,
              "#9c179e"
             ],
             [
              0.4444444444444444,
              "#bd3786"
             ],
             [
              0.5555555555555556,
              "#d8576b"
             ],
             [
              0.6666666666666666,
              "#ed7953"
             ],
             [
              0.7777777777777778,
              "#fb9f3a"
             ],
             [
              0.8888888888888888,
              "#fdca26"
             ],
             [
              1,
              "#f0f921"
             ]
            ],
            "type": "contour"
           }
          ],
          "contourcarpet": [
           {
            "colorbar": {
             "outlinewidth": 0,
             "ticks": ""
            },
            "type": "contourcarpet"
           }
          ],
          "heatmap": [
           {
            "colorbar": {
             "outlinewidth": 0,
             "ticks": ""
            },
            "colorscale": [
             [
              0,
              "#0d0887"
             ],
             [
              0.1111111111111111,
              "#46039f"
             ],
             [
              0.2222222222222222,
              "#7201a8"
             ],
             [
              0.3333333333333333,
              "#9c179e"
             ],
             [
              0.4444444444444444,
              "#bd3786"
             ],
             [
              0.5555555555555556,
              "#d8576b"
             ],
             [
              0.6666666666666666,
              "#ed7953"
             ],
             [
              0.7777777777777778,
              "#fb9f3a"
             ],
             [
              0.8888888888888888,
              "#fdca26"
             ],
             [
              1,
              "#f0f921"
             ]
            ],
            "type": "heatmap"
           }
          ],
          "heatmapgl": [
           {
            "colorbar": {
             "outlinewidth": 0,
             "ticks": ""
            },
            "colorscale": [
             [
              0,
              "#0d0887"
             ],
             [
              0.1111111111111111,
              "#46039f"
             ],
             [
              0.2222222222222222,
              "#7201a8"
             ],
             [
              0.3333333333333333,
              "#9c179e"
             ],
             [
              0.4444444444444444,
              "#bd3786"
             ],
             [
              0.5555555555555556,
              "#d8576b"
             ],
             [
              0.6666666666666666,
              "#ed7953"
             ],
             [
              0.7777777777777778,
              "#fb9f3a"
             ],
             [
              0.8888888888888888,
              "#fdca26"
             ],
             [
              1,
              "#f0f921"
             ]
            ],
            "type": "heatmapgl"
           }
          ],
          "histogram": [
           {
            "marker": {
             "pattern": {
              "fillmode": "overlay",
              "size": 10,
              "solidity": 0.2
             }
            },
            "type": "histogram"
           }
          ],
          "histogram2d": [
           {
            "colorbar": {
             "outlinewidth": 0,
             "ticks": ""
            },
            "colorscale": [
             [
              0,
              "#0d0887"
             ],
             [
              0.1111111111111111,
              "#46039f"
             ],
             [
              0.2222222222222222,
              "#7201a8"
             ],
             [
              0.3333333333333333,
              "#9c179e"
             ],
             [
              0.4444444444444444,
              "#bd3786"
             ],
             [
              0.5555555555555556,
              "#d8576b"
             ],
             [
              0.6666666666666666,
              "#ed7953"
             ],
             [
              0.7777777777777778,
              "#fb9f3a"
             ],
             [
              0.8888888888888888,
              "#fdca26"
             ],
             [
              1,
              "#f0f921"
             ]
            ],
            "type": "histogram2d"
           }
          ],
          "histogram2dcontour": [
           {
            "colorbar": {
             "outlinewidth": 0,
             "ticks": ""
            },
            "colorscale": [
             [
              0,
              "#0d0887"
             ],
             [
              0.1111111111111111,
              "#46039f"
             ],
             [
              0.2222222222222222,
              "#7201a8"
             ],
             [
              0.3333333333333333,
              "#9c179e"
             ],
             [
              0.4444444444444444,
              "#bd3786"
             ],
             [
              0.5555555555555556,
              "#d8576b"
             ],
             [
              0.6666666666666666,
              "#ed7953"
             ],
             [
              0.7777777777777778,
              "#fb9f3a"
             ],
             [
              0.8888888888888888,
              "#fdca26"
             ],
             [
              1,
              "#f0f921"
             ]
            ],
            "type": "histogram2dcontour"
           }
          ],
          "mesh3d": [
           {
            "colorbar": {
             "outlinewidth": 0,
             "ticks": ""
            },
            "type": "mesh3d"
           }
          ],
          "parcoords": [
           {
            "line": {
             "colorbar": {
              "outlinewidth": 0,
              "ticks": ""
             }
            },
            "type": "parcoords"
           }
          ],
          "pie": [
           {
            "automargin": true,
            "type": "pie"
           }
          ],
          "scatter": [
           {
            "fillpattern": {
             "fillmode": "overlay",
             "size": 10,
             "solidity": 0.2
            },
            "type": "scatter"
           }
          ],
          "scatter3d": [
           {
            "line": {
             "colorbar": {
              "outlinewidth": 0,
              "ticks": ""
             }
            },
            "marker": {
             "colorbar": {
              "outlinewidth": 0,
              "ticks": ""
             }
            },
            "type": "scatter3d"
           }
          ],
          "scattercarpet": [
           {
            "marker": {
             "colorbar": {
              "outlinewidth": 0,
              "ticks": ""
             }
            },
            "type": "scattercarpet"
           }
          ],
          "scattergeo": [
           {
            "marker": {
             "colorbar": {
              "outlinewidth": 0,
              "ticks": ""
             }
            },
            "type": "scattergeo"
           }
          ],
          "scattergl": [
           {
            "marker": {
             "colorbar": {
              "outlinewidth": 0,
              "ticks": ""
             }
            },
            "type": "scattergl"
           }
          ],
          "scattermapbox": [
           {
            "marker": {
             "colorbar": {
              "outlinewidth": 0,
              "ticks": ""
             }
            },
            "type": "scattermapbox"
           }
          ],
          "scatterpolar": [
           {
            "marker": {
             "colorbar": {
              "outlinewidth": 0,
              "ticks": ""
             }
            },
            "type": "scatterpolar"
           }
          ],
          "scatterpolargl": [
           {
            "marker": {
             "colorbar": {
              "outlinewidth": 0,
              "ticks": ""
             }
            },
            "type": "scatterpolargl"
           }
          ],
          "scatterternary": [
           {
            "marker": {
             "colorbar": {
              "outlinewidth": 0,
              "ticks": ""
             }
            },
            "type": "scatterternary"
           }
          ],
          "surface": [
           {
            "colorbar": {
             "outlinewidth": 0,
             "ticks": ""
            },
            "colorscale": [
             [
              0,
              "#0d0887"
             ],
             [
              0.1111111111111111,
              "#46039f"
             ],
             [
              0.2222222222222222,
              "#7201a8"
             ],
             [
              0.3333333333333333,
              "#9c179e"
             ],
             [
              0.4444444444444444,
              "#bd3786"
             ],
             [
              0.5555555555555556,
              "#d8576b"
             ],
             [
              0.6666666666666666,
              "#ed7953"
             ],
             [
              0.7777777777777778,
              "#fb9f3a"
             ],
             [
              0.8888888888888888,
              "#fdca26"
             ],
             [
              1,
              "#f0f921"
             ]
            ],
            "type": "surface"
           }
          ],
          "table": [
           {
            "cells": {
             "fill": {
              "color": "#EBF0F8"
             },
             "line": {
              "color": "white"
             }
            },
            "header": {
             "fill": {
              "color": "#C8D4E3"
             },
             "line": {
              "color": "white"
             }
            },
            "type": "table"
           }
          ]
         },
         "layout": {
          "annotationdefaults": {
           "arrowcolor": "#2a3f5f",
           "arrowhead": 0,
           "arrowwidth": 1
          },
          "autotypenumbers": "strict",
          "coloraxis": {
           "colorbar": {
            "outlinewidth": 0,
            "ticks": ""
           }
          },
          "colorscale": {
           "diverging": [
            [
             0,
             "#8e0152"
            ],
            [
             0.1,
             "#c51b7d"
            ],
            [
             0.2,
             "#de77ae"
            ],
            [
             0.3,
             "#f1b6da"
            ],
            [
             0.4,
             "#fde0ef"
            ],
            [
             0.5,
             "#f7f7f7"
            ],
            [
             0.6,
             "#e6f5d0"
            ],
            [
             0.7,
             "#b8e186"
            ],
            [
             0.8,
             "#7fbc41"
            ],
            [
             0.9,
             "#4d9221"
            ],
            [
             1,
             "#276419"
            ]
           ],
           "sequential": [
            [
             0,
             "#0d0887"
            ],
            [
             0.1111111111111111,
             "#46039f"
            ],
            [
             0.2222222222222222,
             "#7201a8"
            ],
            [
             0.3333333333333333,
             "#9c179e"
            ],
            [
             0.4444444444444444,
             "#bd3786"
            ],
            [
             0.5555555555555556,
             "#d8576b"
            ],
            [
             0.6666666666666666,
             "#ed7953"
            ],
            [
             0.7777777777777778,
             "#fb9f3a"
            ],
            [
             0.8888888888888888,
             "#fdca26"
            ],
            [
             1,
             "#f0f921"
            ]
           ],
           "sequentialminus": [
            [
             0,
             "#0d0887"
            ],
            [
             0.1111111111111111,
             "#46039f"
            ],
            [
             0.2222222222222222,
             "#7201a8"
            ],
            [
             0.3333333333333333,
             "#9c179e"
            ],
            [
             0.4444444444444444,
             "#bd3786"
            ],
            [
             0.5555555555555556,
             "#d8576b"
            ],
            [
             0.6666666666666666,
             "#ed7953"
            ],
            [
             0.7777777777777778,
             "#fb9f3a"
            ],
            [
             0.8888888888888888,
             "#fdca26"
            ],
            [
             1,
             "#f0f921"
            ]
           ]
          },
          "colorway": [
           "#636efa",
           "#EF553B",
           "#00cc96",
           "#ab63fa",
           "#FFA15A",
           "#19d3f3",
           "#FF6692",
           "#B6E880",
           "#FF97FF",
           "#FECB52"
          ],
          "font": {
           "color": "#2a3f5f"
          },
          "geo": {
           "bgcolor": "white",
           "lakecolor": "white",
           "landcolor": "#E5ECF6",
           "showlakes": true,
           "showland": true,
           "subunitcolor": "white"
          },
          "hoverlabel": {
           "align": "left"
          },
          "hovermode": "closest",
          "mapbox": {
           "style": "light"
          },
          "paper_bgcolor": "white",
          "plot_bgcolor": "#E5ECF6",
          "polar": {
           "angularaxis": {
            "gridcolor": "white",
            "linecolor": "white",
            "ticks": ""
           },
           "bgcolor": "#E5ECF6",
           "radialaxis": {
            "gridcolor": "white",
            "linecolor": "white",
            "ticks": ""
           }
          },
          "scene": {
           "xaxis": {
            "backgroundcolor": "#E5ECF6",
            "gridcolor": "white",
            "gridwidth": 2,
            "linecolor": "white",
            "showbackground": true,
            "ticks": "",
            "zerolinecolor": "white"
           },
           "yaxis": {
            "backgroundcolor": "#E5ECF6",
            "gridcolor": "white",
            "gridwidth": 2,
            "linecolor": "white",
            "showbackground": true,
            "ticks": "",
            "zerolinecolor": "white"
           },
           "zaxis": {
            "backgroundcolor": "#E5ECF6",
            "gridcolor": "white",
            "gridwidth": 2,
            "linecolor": "white",
            "showbackground": true,
            "ticks": "",
            "zerolinecolor": "white"
           }
          },
          "shapedefaults": {
           "line": {
            "color": "#2a3f5f"
           }
          },
          "ternary": {
           "aaxis": {
            "gridcolor": "white",
            "linecolor": "white",
            "ticks": ""
           },
           "baxis": {
            "gridcolor": "white",
            "linecolor": "white",
            "ticks": ""
           },
           "bgcolor": "#E5ECF6",
           "caxis": {
            "gridcolor": "white",
            "linecolor": "white",
            "ticks": ""
           }
          },
          "title": {
           "x": 0.05
          },
          "xaxis": {
           "automargin": true,
           "gridcolor": "white",
           "linecolor": "white",
           "ticks": "",
           "title": {
            "standoff": 15
           },
           "zerolinecolor": "white",
           "zerolinewidth": 2
          },
          "yaxis": {
           "automargin": true,
           "gridcolor": "white",
           "linecolor": "white",
           "ticks": "",
           "title": {
            "standoff": 15
           },
           "zerolinecolor": "white",
           "zerolinewidth": 2
          }
         }
        },
        "title": {
         "text": "Targets Playmaking Profile",
         "x": 0.5
        },
        "width": 800
       }
      }
     },
     "metadata": {},
     "output_type": "display_data"
    }
   ],
   "source": [
    "second_targets_dict = {player: utils.generate_stats(df_ms, player, final_metrics) for player in second_best_cluster_targets}\n",
    "second_targets_dict.update({'David de Gea':utils.generate_stats(df_ms, 'David de Gea', final_metrics)})\n",
    "\n",
    "fig = utils.plot_radar(player_dict=second_targets_dict, categories=final_metrics, title='Targets Playmaking Profile', value='Statistics')"
   ]
  },
  {
   "cell_type": "code",
   "execution_count": 82,
   "metadata": {},
   "outputs": [
    {
     "data": {
      "text/html": [
       "<div>\n",
       "<style scoped>\n",
       "    .dataframe tbody tr th:only-of-type {\n",
       "        vertical-align: middle;\n",
       "    }\n",
       "\n",
       "    .dataframe tbody tr th {\n",
       "        vertical-align: top;\n",
       "    }\n",
       "\n",
       "    .dataframe thead th {\n",
       "        text-align: right;\n",
       "    }\n",
       "</style>\n",
       "<table border=\"1\" class=\"dataframe\">\n",
       "  <thead>\n",
       "    <tr style=\"text-align: right;\">\n",
       "      <th></th>\n",
       "      <th>Player</th>\n",
       "      <th>Squad</th>\n",
       "      <th>Age</th>\n",
       "      <th>Expected_/90</th>\n",
       "      <th>Passes_Launch%</th>\n",
       "      <th>Passes_AvgLen</th>\n",
       "      <th>Goal Kicks_Launch%</th>\n",
       "      <th>Goal Kicks_AvgLen</th>\n",
       "      <th>Crosses_Stp%</th>\n",
       "      <th>Sweeper_#OPA</th>\n",
       "      <th>Sweeper_AvgDist</th>\n",
       "      <th>Passes_Att</th>\n",
       "    </tr>\n",
       "  </thead>\n",
       "  <tbody>\n",
       "    <tr>\n",
       "      <th>55</th>\n",
       "      <td>Yehvann Diouf</td>\n",
       "      <td>Reims</td>\n",
       "      <td>24</td>\n",
       "      <td>0.29</td>\n",
       "      <td>29.7</td>\n",
       "      <td>32.3</td>\n",
       "      <td>32.9</td>\n",
       "      <td>33.8</td>\n",
       "      <td>9.3</td>\n",
       "      <td>1.13</td>\n",
       "      <td>12.7</td>\n",
       "      <td>27.3</td>\n",
       "    </tr>\n",
       "    <tr>\n",
       "      <th>101</th>\n",
       "      <td>Anthony Lopes</td>\n",
       "      <td>Lyon</td>\n",
       "      <td>33</td>\n",
       "      <td>0.08</td>\n",
       "      <td>32.2</td>\n",
       "      <td>32.4</td>\n",
       "      <td>31.1</td>\n",
       "      <td>32.4</td>\n",
       "      <td>5.5</td>\n",
       "      <td>0.58</td>\n",
       "      <td>12.7</td>\n",
       "      <td>24.6</td>\n",
       "    </tr>\n",
       "    <tr>\n",
       "      <th>84</th>\n",
       "      <td>Michele Di Gregorio</td>\n",
       "      <td>Monza</td>\n",
       "      <td>26</td>\n",
       "      <td>0.05</td>\n",
       "      <td>30.5</td>\n",
       "      <td>32.4</td>\n",
       "      <td>35.3</td>\n",
       "      <td>33.4</td>\n",
       "      <td>3.1</td>\n",
       "      <td>0.72</td>\n",
       "      <td>12.4</td>\n",
       "      <td>32.8</td>\n",
       "    </tr>\n",
       "    <tr>\n",
       "      <th>99</th>\n",
       "      <td>Lukáš Hrádecký</td>\n",
       "      <td>Leverkusen</td>\n",
       "      <td>34</td>\n",
       "      <td>-0.08</td>\n",
       "      <td>32.4</td>\n",
       "      <td>32.5</td>\n",
       "      <td>42.9</td>\n",
       "      <td>37.2</td>\n",
       "      <td>6.5</td>\n",
       "      <td>0.59</td>\n",
       "      <td>13.2</td>\n",
       "      <td>28.2</td>\n",
       "    </tr>\n",
       "    <tr>\n",
       "      <th>109</th>\n",
       "      <td>André Onana</td>\n",
       "      <td>Inter</td>\n",
       "      <td>27</td>\n",
       "      <td>-0.14</td>\n",
       "      <td>26.7</td>\n",
       "      <td>30.2</td>\n",
       "      <td>32.3</td>\n",
       "      <td>35.8</td>\n",
       "      <td>6.0</td>\n",
       "      <td>0.45</td>\n",
       "      <td>12.5</td>\n",
       "      <td>35.0</td>\n",
       "    </tr>\n",
       "    <tr>\n",
       "      <th>104</th>\n",
       "      <td>Marvin Schwäbe</td>\n",
       "      <td>Köln</td>\n",
       "      <td>28</td>\n",
       "      <td>-0.29</td>\n",
       "      <td>27.7</td>\n",
       "      <td>31.1</td>\n",
       "      <td>28.9</td>\n",
       "      <td>33.0</td>\n",
       "      <td>3.9</td>\n",
       "      <td>0.54</td>\n",
       "      <td>12.9</td>\n",
       "      <td>36.1</td>\n",
       "    </tr>\n",
       "  </tbody>\n",
       "</table>\n",
       "</div>"
      ],
      "text/plain": [
       "                  Player       Squad  Age  Expected_/90  Passes_Launch%  \\\n",
       "55         Yehvann Diouf       Reims   24          0.29            29.7   \n",
       "101        Anthony Lopes        Lyon   33          0.08            32.2   \n",
       "84   Michele Di Gregorio       Monza   26          0.05            30.5   \n",
       "99        Lukáš Hrádecký  Leverkusen   34         -0.08            32.4   \n",
       "109          André Onana       Inter   27         -0.14            26.7   \n",
       "104       Marvin Schwäbe        Köln   28         -0.29            27.7   \n",
       "\n",
       "     Passes_AvgLen  Goal Kicks_Launch%  Goal Kicks_AvgLen  Crosses_Stp%  \\\n",
       "55            32.3                32.9               33.8           9.3   \n",
       "101           32.4                31.1               32.4           5.5   \n",
       "84            32.4                35.3               33.4           3.1   \n",
       "99            32.5                42.9               37.2           6.5   \n",
       "109           30.2                32.3               35.8           6.0   \n",
       "104           31.1                28.9               33.0           3.9   \n",
       "\n",
       "     Sweeper_#OPA  Sweeper_AvgDist  Passes_Att  \n",
       "55           1.13             12.7        27.3  \n",
       "101          0.58             12.7        24.6  \n",
       "84           0.72             12.4        32.8  \n",
       "99           0.59             13.2        28.2  \n",
       "109          0.45             12.5        35.0  \n",
       "104          0.54             12.9        36.1  "
      ]
     },
     "execution_count": 82,
     "metadata": {},
     "output_type": "execute_result"
    }
   ],
   "source": [
    "df.loc[df.Player.isin(second_best_cluster_targets)][['Player','Squad','Age','Expected_/90']+metrics].sort_values(['Expected_/90'], ascending=False)\n"
   ]
  },
  {
   "cell_type": "code",
   "execution_count": 83,
   "metadata": {},
   "outputs": [],
   "source": [
    "final_second_best_cluster_targets = [\n",
    " 'Yehvann Diouf',\n",
    " 'Michele Di Gregorio',\n",
    " 'Anthony Lopes',\n",
    " ]"
   ]
  },
  {
   "cell_type": "code",
   "execution_count": 84,
   "metadata": {},
   "outputs": [
    {
     "data": {
      "application/vnd.plotly.v1+json": {
       "config": {
        "plotlyServerURL": "https://plot.ly"
       },
       "data": [
        {
         "fill": "toself",
         "name": "Yehvann Diouf",
         "r": [
          0.9318181818181819,
          0.4360189573459715,
          0.3125,
          0.7130584192439863,
          0.6434426229508199,
          0.8257790368271954,
          0.8081264108352145,
          0.43438914027149345
         ],
         "theta": [
          "Crosses_Stp%",
          "Sweeper_#OPA",
          "Sweeper_AvgDist",
          "Rev_Passes_Launch%",
          "Rev_Passes_AvgLen",
          "Rev_Goal Kicks_Launch%",
          "Rev_Goal Kicks_AvgLen",
          "Passes_Att"
         ],
         "type": "scatterpolar"
        },
        {
         "fill": "toself",
         "name": "Michele Di Gregorio",
         "r": [
          0.2272727272727273,
          0.24170616113744073,
          0.28125,
          0.6993127147766324,
          0.639344262295082,
          0.7917847025495751,
          0.817155756207675,
          0.6832579185520362
         ],
         "theta": [
          "Crosses_Stp%",
          "Sweeper_#OPA",
          "Sweeper_AvgDist",
          "Rev_Passes_Launch%",
          "Rev_Passes_AvgLen",
          "Rev_Goal Kicks_Launch%",
          "Rev_Goal Kicks_AvgLen",
          "Passes_Att"
         ],
         "type": "scatterpolar"
        },
        {
         "fill": "toself",
         "name": "Anthony Lopes",
         "r": [
          0.5,
          0.17535545023696683,
          0.3125,
          0.6701030927835051,
          0.639344262295082,
          0.8512747875354107,
          0.8397291196388262,
          0.31221719457013597
         ],
         "theta": [
          "Crosses_Stp%",
          "Sweeper_#OPA",
          "Sweeper_AvgDist",
          "Rev_Passes_Launch%",
          "Rev_Passes_AvgLen",
          "Rev_Goal Kicks_Launch%",
          "Rev_Goal Kicks_AvgLen",
          "Passes_Att"
         ],
         "type": "scatterpolar"
        },
        {
         "fill": "toself",
         "name": "David de Gea",
         "r": [
          0.21590909090909088,
          0.29383886255924174,
          0.5,
          0.6804123711340206,
          0.6721311475409837,
          0.36402266288951834,
          0.4808126410835215,
          0.42533936651583737
         ],
         "theta": [
          "Crosses_Stp%",
          "Sweeper_#OPA",
          "Sweeper_AvgDist",
          "Rev_Passes_Launch%",
          "Rev_Passes_AvgLen",
          "Rev_Goal Kicks_Launch%",
          "Rev_Goal Kicks_AvgLen",
          "Passes_Att"
         ],
         "type": "scatterpolar"
        }
       ],
       "layout": {
        "height": 600,
        "polar": {
         "radialaxis": {
          "range": [
           0,
           1
          ],
          "showticklabels": false,
          "visible": true
         }
        },
        "showlegend": true,
        "template": {
         "data": {
          "bar": [
           {
            "error_x": {
             "color": "#2a3f5f"
            },
            "error_y": {
             "color": "#2a3f5f"
            },
            "marker": {
             "line": {
              "color": "#E5ECF6",
              "width": 0.5
             },
             "pattern": {
              "fillmode": "overlay",
              "size": 10,
              "solidity": 0.2
             }
            },
            "type": "bar"
           }
          ],
          "barpolar": [
           {
            "marker": {
             "line": {
              "color": "#E5ECF6",
              "width": 0.5
             },
             "pattern": {
              "fillmode": "overlay",
              "size": 10,
              "solidity": 0.2
             }
            },
            "type": "barpolar"
           }
          ],
          "carpet": [
           {
            "aaxis": {
             "endlinecolor": "#2a3f5f",
             "gridcolor": "white",
             "linecolor": "white",
             "minorgridcolor": "white",
             "startlinecolor": "#2a3f5f"
            },
            "baxis": {
             "endlinecolor": "#2a3f5f",
             "gridcolor": "white",
             "linecolor": "white",
             "minorgridcolor": "white",
             "startlinecolor": "#2a3f5f"
            },
            "type": "carpet"
           }
          ],
          "choropleth": [
           {
            "colorbar": {
             "outlinewidth": 0,
             "ticks": ""
            },
            "type": "choropleth"
           }
          ],
          "contour": [
           {
            "colorbar": {
             "outlinewidth": 0,
             "ticks": ""
            },
            "colorscale": [
             [
              0,
              "#0d0887"
             ],
             [
              0.1111111111111111,
              "#46039f"
             ],
             [
              0.2222222222222222,
              "#7201a8"
             ],
             [
              0.3333333333333333,
              "#9c179e"
             ],
             [
              0.4444444444444444,
              "#bd3786"
             ],
             [
              0.5555555555555556,
              "#d8576b"
             ],
             [
              0.6666666666666666,
              "#ed7953"
             ],
             [
              0.7777777777777778,
              "#fb9f3a"
             ],
             [
              0.8888888888888888,
              "#fdca26"
             ],
             [
              1,
              "#f0f921"
             ]
            ],
            "type": "contour"
           }
          ],
          "contourcarpet": [
           {
            "colorbar": {
             "outlinewidth": 0,
             "ticks": ""
            },
            "type": "contourcarpet"
           }
          ],
          "heatmap": [
           {
            "colorbar": {
             "outlinewidth": 0,
             "ticks": ""
            },
            "colorscale": [
             [
              0,
              "#0d0887"
             ],
             [
              0.1111111111111111,
              "#46039f"
             ],
             [
              0.2222222222222222,
              "#7201a8"
             ],
             [
              0.3333333333333333,
              "#9c179e"
             ],
             [
              0.4444444444444444,
              "#bd3786"
             ],
             [
              0.5555555555555556,
              "#d8576b"
             ],
             [
              0.6666666666666666,
              "#ed7953"
             ],
             [
              0.7777777777777778,
              "#fb9f3a"
             ],
             [
              0.8888888888888888,
              "#fdca26"
             ],
             [
              1,
              "#f0f921"
             ]
            ],
            "type": "heatmap"
           }
          ],
          "heatmapgl": [
           {
            "colorbar": {
             "outlinewidth": 0,
             "ticks": ""
            },
            "colorscale": [
             [
              0,
              "#0d0887"
             ],
             [
              0.1111111111111111,
              "#46039f"
             ],
             [
              0.2222222222222222,
              "#7201a8"
             ],
             [
              0.3333333333333333,
              "#9c179e"
             ],
             [
              0.4444444444444444,
              "#bd3786"
             ],
             [
              0.5555555555555556,
              "#d8576b"
             ],
             [
              0.6666666666666666,
              "#ed7953"
             ],
             [
              0.7777777777777778,
              "#fb9f3a"
             ],
             [
              0.8888888888888888,
              "#fdca26"
             ],
             [
              1,
              "#f0f921"
             ]
            ],
            "type": "heatmapgl"
           }
          ],
          "histogram": [
           {
            "marker": {
             "pattern": {
              "fillmode": "overlay",
              "size": 10,
              "solidity": 0.2
             }
            },
            "type": "histogram"
           }
          ],
          "histogram2d": [
           {
            "colorbar": {
             "outlinewidth": 0,
             "ticks": ""
            },
            "colorscale": [
             [
              0,
              "#0d0887"
             ],
             [
              0.1111111111111111,
              "#46039f"
             ],
             [
              0.2222222222222222,
              "#7201a8"
             ],
             [
              0.3333333333333333,
              "#9c179e"
             ],
             [
              0.4444444444444444,
              "#bd3786"
             ],
             [
              0.5555555555555556,
              "#d8576b"
             ],
             [
              0.6666666666666666,
              "#ed7953"
             ],
             [
              0.7777777777777778,
              "#fb9f3a"
             ],
             [
              0.8888888888888888,
              "#fdca26"
             ],
             [
              1,
              "#f0f921"
             ]
            ],
            "type": "histogram2d"
           }
          ],
          "histogram2dcontour": [
           {
            "colorbar": {
             "outlinewidth": 0,
             "ticks": ""
            },
            "colorscale": [
             [
              0,
              "#0d0887"
             ],
             [
              0.1111111111111111,
              "#46039f"
             ],
             [
              0.2222222222222222,
              "#7201a8"
             ],
             [
              0.3333333333333333,
              "#9c179e"
             ],
             [
              0.4444444444444444,
              "#bd3786"
             ],
             [
              0.5555555555555556,
              "#d8576b"
             ],
             [
              0.6666666666666666,
              "#ed7953"
             ],
             [
              0.7777777777777778,
              "#fb9f3a"
             ],
             [
              0.8888888888888888,
              "#fdca26"
             ],
             [
              1,
              "#f0f921"
             ]
            ],
            "type": "histogram2dcontour"
           }
          ],
          "mesh3d": [
           {
            "colorbar": {
             "outlinewidth": 0,
             "ticks": ""
            },
            "type": "mesh3d"
           }
          ],
          "parcoords": [
           {
            "line": {
             "colorbar": {
              "outlinewidth": 0,
              "ticks": ""
             }
            },
            "type": "parcoords"
           }
          ],
          "pie": [
           {
            "automargin": true,
            "type": "pie"
           }
          ],
          "scatter": [
           {
            "fillpattern": {
             "fillmode": "overlay",
             "size": 10,
             "solidity": 0.2
            },
            "type": "scatter"
           }
          ],
          "scatter3d": [
           {
            "line": {
             "colorbar": {
              "outlinewidth": 0,
              "ticks": ""
             }
            },
            "marker": {
             "colorbar": {
              "outlinewidth": 0,
              "ticks": ""
             }
            },
            "type": "scatter3d"
           }
          ],
          "scattercarpet": [
           {
            "marker": {
             "colorbar": {
              "outlinewidth": 0,
              "ticks": ""
             }
            },
            "type": "scattercarpet"
           }
          ],
          "scattergeo": [
           {
            "marker": {
             "colorbar": {
              "outlinewidth": 0,
              "ticks": ""
             }
            },
            "type": "scattergeo"
           }
          ],
          "scattergl": [
           {
            "marker": {
             "colorbar": {
              "outlinewidth": 0,
              "ticks": ""
             }
            },
            "type": "scattergl"
           }
          ],
          "scattermapbox": [
           {
            "marker": {
             "colorbar": {
              "outlinewidth": 0,
              "ticks": ""
             }
            },
            "type": "scattermapbox"
           }
          ],
          "scatterpolar": [
           {
            "marker": {
             "colorbar": {
              "outlinewidth": 0,
              "ticks": ""
             }
            },
            "type": "scatterpolar"
           }
          ],
          "scatterpolargl": [
           {
            "marker": {
             "colorbar": {
              "outlinewidth": 0,
              "ticks": ""
             }
            },
            "type": "scatterpolargl"
           }
          ],
          "scatterternary": [
           {
            "marker": {
             "colorbar": {
              "outlinewidth": 0,
              "ticks": ""
             }
            },
            "type": "scatterternary"
           }
          ],
          "surface": [
           {
            "colorbar": {
             "outlinewidth": 0,
             "ticks": ""
            },
            "colorscale": [
             [
              0,
              "#0d0887"
             ],
             [
              0.1111111111111111,
              "#46039f"
             ],
             [
              0.2222222222222222,
              "#7201a8"
             ],
             [
              0.3333333333333333,
              "#9c179e"
             ],
             [
              0.4444444444444444,
              "#bd3786"
             ],
             [
              0.5555555555555556,
              "#d8576b"
             ],
             [
              0.6666666666666666,
              "#ed7953"
             ],
             [
              0.7777777777777778,
              "#fb9f3a"
             ],
             [
              0.8888888888888888,
              "#fdca26"
             ],
             [
              1,
              "#f0f921"
             ]
            ],
            "type": "surface"
           }
          ],
          "table": [
           {
            "cells": {
             "fill": {
              "color": "#EBF0F8"
             },
             "line": {
              "color": "white"
             }
            },
            "header": {
             "fill": {
              "color": "#C8D4E3"
             },
             "line": {
              "color": "white"
             }
            },
            "type": "table"
           }
          ]
         },
         "layout": {
          "annotationdefaults": {
           "arrowcolor": "#2a3f5f",
           "arrowhead": 0,
           "arrowwidth": 1
          },
          "autotypenumbers": "strict",
          "coloraxis": {
           "colorbar": {
            "outlinewidth": 0,
            "ticks": ""
           }
          },
          "colorscale": {
           "diverging": [
            [
             0,
             "#8e0152"
            ],
            [
             0.1,
             "#c51b7d"
            ],
            [
             0.2,
             "#de77ae"
            ],
            [
             0.3,
             "#f1b6da"
            ],
            [
             0.4,
             "#fde0ef"
            ],
            [
             0.5,
             "#f7f7f7"
            ],
            [
             0.6,
             "#e6f5d0"
            ],
            [
             0.7,
             "#b8e186"
            ],
            [
             0.8,
             "#7fbc41"
            ],
            [
             0.9,
             "#4d9221"
            ],
            [
             1,
             "#276419"
            ]
           ],
           "sequential": [
            [
             0,
             "#0d0887"
            ],
            [
             0.1111111111111111,
             "#46039f"
            ],
            [
             0.2222222222222222,
             "#7201a8"
            ],
            [
             0.3333333333333333,
             "#9c179e"
            ],
            [
             0.4444444444444444,
             "#bd3786"
            ],
            [
             0.5555555555555556,
             "#d8576b"
            ],
            [
             0.6666666666666666,
             "#ed7953"
            ],
            [
             0.7777777777777778,
             "#fb9f3a"
            ],
            [
             0.8888888888888888,
             "#fdca26"
            ],
            [
             1,
             "#f0f921"
            ]
           ],
           "sequentialminus": [
            [
             0,
             "#0d0887"
            ],
            [
             0.1111111111111111,
             "#46039f"
            ],
            [
             0.2222222222222222,
             "#7201a8"
            ],
            [
             0.3333333333333333,
             "#9c179e"
            ],
            [
             0.4444444444444444,
             "#bd3786"
            ],
            [
             0.5555555555555556,
             "#d8576b"
            ],
            [
             0.6666666666666666,
             "#ed7953"
            ],
            [
             0.7777777777777778,
             "#fb9f3a"
            ],
            [
             0.8888888888888888,
             "#fdca26"
            ],
            [
             1,
             "#f0f921"
            ]
           ]
          },
          "colorway": [
           "#636efa",
           "#EF553B",
           "#00cc96",
           "#ab63fa",
           "#FFA15A",
           "#19d3f3",
           "#FF6692",
           "#B6E880",
           "#FF97FF",
           "#FECB52"
          ],
          "font": {
           "color": "#2a3f5f"
          },
          "geo": {
           "bgcolor": "white",
           "lakecolor": "white",
           "landcolor": "#E5ECF6",
           "showlakes": true,
           "showland": true,
           "subunitcolor": "white"
          },
          "hoverlabel": {
           "align": "left"
          },
          "hovermode": "closest",
          "mapbox": {
           "style": "light"
          },
          "paper_bgcolor": "white",
          "plot_bgcolor": "#E5ECF6",
          "polar": {
           "angularaxis": {
            "gridcolor": "white",
            "linecolor": "white",
            "ticks": ""
           },
           "bgcolor": "#E5ECF6",
           "radialaxis": {
            "gridcolor": "white",
            "linecolor": "white",
            "ticks": ""
           }
          },
          "scene": {
           "xaxis": {
            "backgroundcolor": "#E5ECF6",
            "gridcolor": "white",
            "gridwidth": 2,
            "linecolor": "white",
            "showbackground": true,
            "ticks": "",
            "zerolinecolor": "white"
           },
           "yaxis": {
            "backgroundcolor": "#E5ECF6",
            "gridcolor": "white",
            "gridwidth": 2,
            "linecolor": "white",
            "showbackground": true,
            "ticks": "",
            "zerolinecolor": "white"
           },
           "zaxis": {
            "backgroundcolor": "#E5ECF6",
            "gridcolor": "white",
            "gridwidth": 2,
            "linecolor": "white",
            "showbackground": true,
            "ticks": "",
            "zerolinecolor": "white"
           }
          },
          "shapedefaults": {
           "line": {
            "color": "#2a3f5f"
           }
          },
          "ternary": {
           "aaxis": {
            "gridcolor": "white",
            "linecolor": "white",
            "ticks": ""
           },
           "baxis": {
            "gridcolor": "white",
            "linecolor": "white",
            "ticks": ""
           },
           "bgcolor": "#E5ECF6",
           "caxis": {
            "gridcolor": "white",
            "linecolor": "white",
            "ticks": ""
           }
          },
          "title": {
           "x": 0.05
          },
          "xaxis": {
           "automargin": true,
           "gridcolor": "white",
           "linecolor": "white",
           "ticks": "",
           "title": {
            "standoff": 15
           },
           "zerolinecolor": "white",
           "zerolinewidth": 2
          },
          "yaxis": {
           "automargin": true,
           "gridcolor": "white",
           "linecolor": "white",
           "ticks": "",
           "title": {
            "standoff": 15
           },
           "zerolinecolor": "white",
           "zerolinewidth": 2
          }
         }
        },
        "title": {
         "text": "Targets Playmaking Profile",
         "x": 0.5
        },
        "width": 800
       }
      }
     },
     "metadata": {},
     "output_type": "display_data"
    }
   ],
   "source": [
    "second_targets_dict = {player: utils.generate_stats(df_ms, player, final_metrics) for player in final_second_best_cluster_targets}\n",
    "second_targets_dict.update({'David de Gea':utils.generate_stats(df_ms, 'David de Gea', final_metrics)})\n",
    "\n",
    "fig = utils.plot_radar(player_dict=second_targets_dict, categories=final_metrics, title='Targets Playmaking Profile', value='Statistics')"
   ]
  },
  {
   "cell_type": "code",
   "execution_count": 95,
   "metadata": {},
   "outputs": [
    {
     "name": "stdout",
     "output_type": "stream",
     "text": [
      "|     | Player              | Squad          |   Age |   Expected_/90 |   Passes_Launch% |   Passes_AvgLen |   Goal Kicks_Launch% |   Goal Kicks_AvgLen |   Crosses_Stp% |   Sweeper_#OPA |   Sweeper_AvgDist |   Passes_Att |\n",
      "|----:|:--------------------|:---------------|------:|---------------:|-----------------:|----------------:|---------------------:|--------------------:|---------------:|---------------:|------------------:|-------------:|\n",
      "|  55 | Yehvann Diouf       | Reims          |    24 |           0.29 |             29.7 |            32.3 |                 32.9 |                33.8 |            9.3 |           1.13 |              12.7 |         27.3 |\n",
      "| 101 | Anthony Lopes       | Lyon           |    33 |           0.08 |             32.2 |            32.4 |                 31.1 |                32.4 |            5.5 |           0.58 |              12.7 |         24.6 |\n",
      "|  84 | Michele Di Gregorio | Monza          |    26 |           0.05 |             30.5 |            32.4 |                 35.3 |                33.4 |            3.1 |           0.72 |              12.4 |         32.8 |\n",
      "|  75 | David de Gea        | Manchester Utd |    33 |          -0.08 |             31.6 |            31.6 |                 65.5 |                48.3 |            3   |           0.83 |              14.5 |         27.1 |\n"
     ]
    }
   ],
   "source": [
    "print(df.loc[df.Player.isin(final_second_best_cluster_targets+['David de Gea'])][['Player','Squad','Age','Expected_/90']+metrics].sort_values(['Expected_/90'], ascending=False).to_markdown())"
   ]
  },
  {
   "cell_type": "code",
   "execution_count": null,
   "metadata": {},
   "outputs": [],
   "source": []
  }
 ],
 "metadata": {
  "kernelspec": {
   "display_name": "ml-1",
   "language": "python",
   "name": "python3"
  },
  "language_info": {
   "codemirror_mode": {
    "name": "ipython",
    "version": 3
   },
   "file_extension": ".py",
   "mimetype": "text/x-python",
   "name": "python",
   "nbconvert_exporter": "python",
   "pygments_lexer": "ipython3",
   "version": "3.10.8"
  },
  "orig_nbformat": 4
 },
 "nbformat": 4,
 "nbformat_minor": 2
}
